{
 "cells": [
  {
   "cell_type": "markdown",
   "metadata": {},
   "source": [
    "# Import Modules"
   ]
  },
  {
   "cell_type": "code",
   "execution_count": 1,
   "metadata": {},
   "outputs": [],
   "source": [
    "# General modules & loading data\r\n",
    "import pandas as pd\r\n",
    "import numpy as np\r\n",
    "import os\r\n",
    "import matplotlib.pyplot as plt\r\n",
    "from IPython.display import display\r\n",
    "\r\n",
    "from tqdm import trange\r\n",
    "\r\n",
    "import pingouin as pg"
   ]
  },
  {
   "cell_type": "code",
   "execution_count": 2,
   "metadata": {},
   "outputs": [],
   "source": [
    "pd.options.display.max_rows = 20"
   ]
  },
  {
   "cell_type": "markdown",
   "metadata": {},
   "source": [
    "# Load Data"
   ]
  },
  {
   "cell_type": "markdown",
   "metadata": {},
   "source": [
    "## Load feature set"
   ]
  },
  {
   "cell_type": "code",
   "execution_count": 3,
   "metadata": {},
   "outputs": [],
   "source": [
    "root = os.path.split(os.getcwd())[0]\r\n",
    "image_feats = {'t1': pd.read_csv(root + '\\\\0.2 outputs\\T1\\Merged_Features_T1.csv'),\r\n",
    "               't2': pd.read_csv(root + '\\\\0.2 outputs\\T2\\Merged_Features_T2.csv')}\r\n"
   ]
  },
  {
   "cell_type": "markdown",
   "metadata": {},
   "source": [
    "## Test for normality in remission and progression distributions"
   ]
  },
  {
   "cell_type": "code",
   "execution_count": 10,
   "metadata": {},
   "outputs": [
    {
     "name": "stderr",
     "output_type": "stream",
     "text": [
      "100%|██████████| 1702/1702 [00:10<00:00, 160.27it/s]\n"
     ]
    }
   ],
   "source": [
    "# print(t1_feats.iloc[:,1:2].columns[0])\r\n",
    "# print(pg.normality(t1_feats, dv=t1_feats.iloc[:,1:2].columns[0], group='Class'))\r\n",
    "\r\n",
    "\r\n",
    "normality_test_df = pd.DataFrame()\r\n",
    "\r\n",
    "for i in trange(1,image_feats['t1'].shape[1]-1):\r\n",
    "    ntest = pg.normality(image_feats['t1'], dv=image_feats['t1'].iloc[:,i:i+1].columns[0], group='Class')\r\n",
    "    normality_test_df = normality_test_df.append({\r\n",
    "                    'Variable':image_feats['t1'].iloc[:,i:i+1].columns[0],\r\n",
    "                    'Remission_Normality': str(ntest['normal']['Remission']),\r\n",
    "                    'Remission_p_value': ntest['pval']['Remission'],\r\n",
    "                    'Progression_Normality': str(ntest['normal']['Progression']),\r\n",
    "                    'Progression_p_value': ntest['pval']['Progression']\r\n",
    "                    }, \r\n",
    "                   ignore_index=True)\r\n",
    "\r\n",
    "normality_test_df = normality_test_df.reindex(columns = ['Variable',\r\n",
    "                                                         'Remission_Normality',\r\n",
    "                                                         'Progression_Normality',\r\n",
    "                                                         'Remission_p_value',\r\n",
    "                                                         'Progression_p_value'])"
   ]
  },
  {
   "cell_type": "code",
   "execution_count": 11,
   "metadata": {},
   "outputs": [
    {
     "data": {
      "text/html": "<div>\n<style scoped>\n    .dataframe tbody tr th:only-of-type {\n        vertical-align: middle;\n    }\n\n    .dataframe tbody tr th {\n        vertical-align: top;\n    }\n\n    .dataframe thead th {\n        text-align: right;\n    }\n</style>\n<table border=\"1\" class=\"dataframe\">\n  <thead>\n    <tr style=\"text-align: right;\">\n      <th></th>\n      <th>Variable</th>\n      <th>Remission_Normality</th>\n      <th>Progression_Normality</th>\n      <th>Remission_p_value</th>\n      <th>Progression_p_value</th>\n    </tr>\n  </thead>\n  <tbody>\n    <tr>\n      <th>0</th>\n      <td>CT_original_shape_Elongation</td>\n      <td>True</td>\n      <td>False</td>\n      <td>1.086067e-01</td>\n      <td>0.026658</td>\n    </tr>\n    <tr>\n      <th>1</th>\n      <td>CT_original_shape_Flatness</td>\n      <td>True</td>\n      <td>True</td>\n      <td>2.000505e-01</td>\n      <td>0.139970</td>\n    </tr>\n    <tr>\n      <th>2</th>\n      <td>CT_original_shape_LeastAxisLength</td>\n      <td>True</td>\n      <td>True</td>\n      <td>5.146951e-02</td>\n      <td>0.088881</td>\n    </tr>\n    <tr>\n      <th>3</th>\n      <td>CT_original_shape_MajorAxisLength</td>\n      <td>False</td>\n      <td>True</td>\n      <td>3.000878e-03</td>\n      <td>0.050864</td>\n    </tr>\n    <tr>\n      <th>4</th>\n      <td>CT_original_shape_Maximum2DDiameterColumn</td>\n      <td>True</td>\n      <td>False</td>\n      <td>1.061043e-01</td>\n      <td>0.016650</td>\n    </tr>\n    <tr>\n      <th>...</th>\n      <td>...</td>\n      <td>...</td>\n      <td>...</td>\n      <td>...</td>\n      <td>...</td>\n    </tr>\n    <tr>\n      <th>1697</th>\n      <td>PET_wavelet-LLL_gldm_LargeDependenceLowGrayLev...</td>\n      <td>False</td>\n      <td>False</td>\n      <td>9.597299e-12</td>\n      <td>0.001602</td>\n    </tr>\n    <tr>\n      <th>1698</th>\n      <td>PET_wavelet-LLL_gldm_LowGrayLevelEmphasis</td>\n      <td>False</td>\n      <td>False</td>\n      <td>5.664038e-10</td>\n      <td>0.003519</td>\n    </tr>\n    <tr>\n      <th>1699</th>\n      <td>PET_wavelet-LLL_gldm_SmallDependenceEmphasis</td>\n      <td>False</td>\n      <td>True</td>\n      <td>4.510042e-09</td>\n      <td>0.084581</td>\n    </tr>\n    <tr>\n      <th>1700</th>\n      <td>PET_wavelet-LLL_gldm_SmallDependenceHighGrayLe...</td>\n      <td>False</td>\n      <td>False</td>\n      <td>7.924935e-08</td>\n      <td>0.002455</td>\n    </tr>\n    <tr>\n      <th>1701</th>\n      <td>PET_wavelet-LLL_gldm_SmallDependenceLowGrayLev...</td>\n      <td>False</td>\n      <td>False</td>\n      <td>7.510791e-10</td>\n      <td>0.004570</td>\n    </tr>\n  </tbody>\n</table>\n<p>1702 rows × 5 columns</p>\n</div>",
      "text/plain": "                                               Variable Remission_Normality  \\\n0                          CT_original_shape_Elongation                True   \n1                            CT_original_shape_Flatness                True   \n2                     CT_original_shape_LeastAxisLength                True   \n3                     CT_original_shape_MajorAxisLength               False   \n4             CT_original_shape_Maximum2DDiameterColumn                True   \n...                                                 ...                 ...   \n1697  PET_wavelet-LLL_gldm_LargeDependenceLowGrayLev...               False   \n1698          PET_wavelet-LLL_gldm_LowGrayLevelEmphasis               False   \n1699       PET_wavelet-LLL_gldm_SmallDependenceEmphasis               False   \n1700  PET_wavelet-LLL_gldm_SmallDependenceHighGrayLe...               False   \n1701  PET_wavelet-LLL_gldm_SmallDependenceLowGrayLev...               False   \n\n     Progression_Normality  Remission_p_value  Progression_p_value  \n0                    False       1.086067e-01             0.026658  \n1                     True       2.000505e-01             0.139970  \n2                     True       5.146951e-02             0.088881  \n3                     True       3.000878e-03             0.050864  \n4                    False       1.061043e-01             0.016650  \n...                    ...                ...                  ...  \n1697                 False       9.597299e-12             0.001602  \n1698                 False       5.664038e-10             0.003519  \n1699                  True       4.510042e-09             0.084581  \n1700                 False       7.924935e-08             0.002455  \n1701                 False       7.510791e-10             0.004570  \n\n[1702 rows x 5 columns]"
     },
     "metadata": {},
     "output_type": "display_data"
    }
   ],
   "source": [
    "display(normality_test_df)"
   ]
  },
  {
   "cell_type": "markdown",
   "metadata": {},
   "source": [
    "# Test for Significant Features"
   ]
  },
  {
   "cell_type": "code",
   "execution_count": 12,
   "metadata": {},
   "outputs": [
    {
     "name": "stderr",
     "output_type": "stream",
     "text": [
      "100%|██████████| 1702/1702 [00:17<00:00, 98.26it/s]\n"
     ]
    }
   ],
   "source": [
    "alpha = 0.05\r\n",
    "\r\n",
    "ttest_df = pd.DataFrame()\r\n",
    "\r\n",
    "for i in trange(1,image_feats['t1'].shape[1]-1):\r\n",
    "    res = pg.pairwise_ttests(data=image_feats['t1'], \r\n",
    "                             dv=image_feats['t1'].iloc[:,i:i+1].columns[0], \r\n",
    "                             between='Class', \r\n",
    "                             parametric=False, \r\n",
    "                             correction='auto',\r\n",
    "                             alpha=alpha)\r\n",
    "    \r\n",
    "    res['Feature'] = image_feats['t1'].iloc[:,i:i+1].columns[0]\r\n",
    "    res['Significance'] = str((res['p-unc']<alpha)[0])\r\n",
    "    ttest_df=ttest_df.append(res)\r\n",
    "    \r\n",
    "ttest_df = ttest_df.reindex(columns=['Feature',\r\n",
    "                                   'Significance',\r\n",
    "                                   'p-unc',\r\n",
    "                                   'hedges',\r\n",
    "                                   'Contrast', \r\n",
    "                                   'A', \r\n",
    "                                   'B', \r\n",
    "                                   'Paired', \r\n",
    "                                   'Parametric', \r\n",
    "                                   'U-val', \r\n",
    "                                   'Tail'])\r\n",
    "\r\n",
    "ttest_df.reset_index(drop=True, inplace=True)\r\n",
    "ttest_df.sort_values(by='p-unc', inplace=True)\r\n",
    "ttest_df.sort_values(by='hedges', inplace=True)"
   ]
  },
  {
   "cell_type": "code",
   "execution_count": 13,
   "metadata": {},
   "outputs": [
    {
     "data": {
      "text/html": "<div>\n<style scoped>\n    .dataframe tbody tr th:only-of-type {\n        vertical-align: middle;\n    }\n\n    .dataframe tbody tr th {\n        vertical-align: top;\n    }\n\n    .dataframe thead th {\n        text-align: right;\n    }\n</style>\n<table border=\"1\" class=\"dataframe\">\n  <thead>\n    <tr style=\"text-align: right;\">\n      <th></th>\n      <th>Feature</th>\n      <th>Significance</th>\n      <th>p-unc</th>\n      <th>hedges</th>\n      <th>Contrast</th>\n      <th>...</th>\n      <th>B</th>\n      <th>Paired</th>\n      <th>Parametric</th>\n      <th>U-val</th>\n      <th>Tail</th>\n    </tr>\n  </thead>\n  <tbody>\n    <tr>\n      <th>12</th>\n      <td>CT_original_shape_SurfaceVolumeRatio</td>\n      <td>True</td>\n      <td>0.002744</td>\n      <td>-1.007454</td>\n      <td>Class</td>\n      <td>...</td>\n      <td>Remission</td>\n      <td>False</td>\n      <td>False</td>\n      <td>109.0</td>\n      <td>two-sided</td>\n    </tr>\n    <tr>\n      <th>1269</th>\n      <td>PET_wavelet-HLL_glcm_Imc2</td>\n      <td>True</td>\n      <td>0.029790</td>\n      <td>-0.998480</td>\n      <td>Class</td>\n      <td>...</td>\n      <td>Remission</td>\n      <td>False</td>\n      <td>False</td>\n      <td>158.0</td>\n      <td>two-sided</td>\n    </tr>\n    <tr>\n      <th>1646</th>\n      <td>PET_wavelet-LLL_glcm_MCC</td>\n      <td>True</td>\n      <td>0.031077</td>\n      <td>-0.981215</td>\n      <td>Class</td>\n      <td>...</td>\n      <td>Remission</td>\n      <td>False</td>\n      <td>False</td>\n      <td>159.0</td>\n      <td>two-sided</td>\n    </tr>\n    <tr>\n      <th>863</th>\n      <td>PET_original_shape_SurfaceVolumeRatio</td>\n      <td>True</td>\n      <td>0.003233</td>\n      <td>-0.979647</td>\n      <td>Class</td>\n      <td>...</td>\n      <td>Remission</td>\n      <td>False</td>\n      <td>False</td>\n      <td>112.0</td>\n      <td>two-sided</td>\n    </tr>\n    <tr>\n      <th>463</th>\n      <td>CT_wavelet-HLL_ngtdm_Contrast</td>\n      <td>True</td>\n      <td>0.002457</td>\n      <td>-0.909553</td>\n      <td>Class</td>\n      <td>...</td>\n      <td>Remission</td>\n      <td>False</td>\n      <td>False</td>\n      <td>107.0</td>\n      <td>two-sided</td>\n    </tr>\n    <tr>\n      <th>...</th>\n      <td>...</td>\n      <td>...</td>\n      <td>...</td>\n      <td>...</td>\n      <td>...</td>\n      <td>...</td>\n      <td>...</td>\n      <td>...</td>\n      <td>...</td>\n      <td>...</td>\n      <td>...</td>\n    </tr>\n    <tr>\n      <th>1134</th>\n      <td>PET_wavelet-LHL_gldm_GrayLevelNonUniformity</td>\n      <td>True</td>\n      <td>0.022994</td>\n      <td>1.995668</td>\n      <td>Class</td>\n      <td>...</td>\n      <td>Remission</td>\n      <td>False</td>\n      <td>False</td>\n      <td>424.0</td>\n      <td>two-sided</td>\n    </tr>\n    <tr>\n      <th>1093</th>\n      <td>PET_wavelet-LHL_glrlm_GrayLevelNonUniformity</td>\n      <td>True</td>\n      <td>0.022994</td>\n      <td>2.017001</td>\n      <td>Class</td>\n      <td>...</td>\n      <td>Remission</td>\n      <td>False</td>\n      <td>False</td>\n      <td>424.0</td>\n      <td>two-sided</td>\n    </tr>\n    <tr>\n      <th>1465</th>\n      <td>PET_wavelet-HHL_glrlm_GrayLevelNonUniformity</td>\n      <td>True</td>\n      <td>0.009533</td>\n      <td>2.038394</td>\n      <td>Class</td>\n      <td>...</td>\n      <td>Remission</td>\n      <td>False</td>\n      <td>False</td>\n      <td>443.0</td>\n      <td>two-sided</td>\n    </tr>\n    <tr>\n      <th>1506</th>\n      <td>PET_wavelet-HHL_gldm_GrayLevelNonUniformity</td>\n      <td>True</td>\n      <td>0.011562</td>\n      <td>2.112945</td>\n      <td>Class</td>\n      <td>...</td>\n      <td>Remission</td>\n      <td>False</td>\n      <td>False</td>\n      <td>439.0</td>\n      <td>two-sided</td>\n    </tr>\n    <tr>\n      <th>1486</th>\n      <td>PET_wavelet-HHL_glszm_LargeAreaHighGrayLevelEm...</td>\n      <td>True</td>\n      <td>0.016050</td>\n      <td>2.261616</td>\n      <td>Class</td>\n      <td>...</td>\n      <td>Remission</td>\n      <td>False</td>\n      <td>False</td>\n      <td>432.0</td>\n      <td>two-sided</td>\n    </tr>\n  </tbody>\n</table>\n<p>391 rows × 11 columns</p>\n</div>",
      "text/plain": "                                                Feature Significance  \\\n12                 CT_original_shape_SurfaceVolumeRatio         True   \n1269                          PET_wavelet-HLL_glcm_Imc2         True   \n1646                           PET_wavelet-LLL_glcm_MCC         True   \n863               PET_original_shape_SurfaceVolumeRatio         True   \n463                       CT_wavelet-HLL_ngtdm_Contrast         True   \n...                                                 ...          ...   \n1134        PET_wavelet-LHL_gldm_GrayLevelNonUniformity         True   \n1093       PET_wavelet-LHL_glrlm_GrayLevelNonUniformity         True   \n1465       PET_wavelet-HHL_glrlm_GrayLevelNonUniformity         True   \n1506        PET_wavelet-HHL_gldm_GrayLevelNonUniformity         True   \n1486  PET_wavelet-HHL_glszm_LargeAreaHighGrayLevelEm...         True   \n\n         p-unc    hedges Contrast  ...          B Paired  Parametric  U-val  \\\n12    0.002744 -1.007454    Class  ...  Remission  False       False  109.0   \n1269  0.029790 -0.998480    Class  ...  Remission  False       False  158.0   \n1646  0.031077 -0.981215    Class  ...  Remission  False       False  159.0   \n863   0.003233 -0.979647    Class  ...  Remission  False       False  112.0   \n463   0.002457 -0.909553    Class  ...  Remission  False       False  107.0   \n...        ...       ...      ...  ...        ...    ...         ...    ...   \n1134  0.022994  1.995668    Class  ...  Remission  False       False  424.0   \n1093  0.022994  2.017001    Class  ...  Remission  False       False  424.0   \n1465  0.009533  2.038394    Class  ...  Remission  False       False  443.0   \n1506  0.011562  2.112945    Class  ...  Remission  False       False  439.0   \n1486  0.016050  2.261616    Class  ...  Remission  False       False  432.0   \n\n           Tail  \n12    two-sided  \n1269  two-sided  \n1646  two-sided  \n863   two-sided  \n463   two-sided  \n...         ...  \n1134  two-sided  \n1093  two-sided  \n1465  two-sided  \n1506  two-sided  \n1486  two-sided  \n\n[391 rows x 11 columns]"
     },
     "metadata": {},
     "output_type": "display_data"
    }
   ],
   "source": [
    "with pd.option_context('display.max_rows', 100, 'display.max_columns', 10):\r\n",
    "    display(ttest_df.loc[ttest_df['Significance']=='True'])"
   ]
  },
  {
   "cell_type": "code",
   "execution_count": 14,
   "metadata": {},
   "outputs": [
    {
     "name": "stderr",
     "output_type": "stream",
     "text": [
      "100%|██████████| 1702/1702 [00:17<00:00, 98.42it/s]\n"
     ]
    }
   ],
   "source": [
    "alpha = 0.01\r\n",
    "\r\n",
    "ttest_df = pd.DataFrame()\r\n",
    "\r\n",
    "for i in trange(1,image_feats['t1'].shape[1]-1):\r\n",
    "    res = pg.pairwise_ttests(data=image_feats['t1'], \r\n",
    "                             dv=image_feats['t1'].iloc[:,i:i+1].columns[0], \r\n",
    "                             between='Class', \r\n",
    "                             parametric=False, \r\n",
    "                             correction='auto',\r\n",
    "                             alpha=alpha)\r\n",
    "    \r\n",
    "    res['Feature'] = image_feats['t1'].iloc[:,i:i+1].columns[0]\r\n",
    "    res['Significance'] = str((res['p-unc']<alpha)[0])\r\n",
    "    ttest_df=ttest_df.append(res)\r\n",
    "    \r\n",
    "ttest_df = ttest_df.reindex(columns=['Feature',\r\n",
    "                                   'Significance',\r\n",
    "                                   'p-unc',\r\n",
    "                                   'hedges',\r\n",
    "                                   'Contrast', \r\n",
    "                                   'A', \r\n",
    "                                   'B', \r\n",
    "                                   'Paired', \r\n",
    "                                   'Parametric', \r\n",
    "                                   'U-val', \r\n",
    "                                   'Tail'])\r\n",
    "\r\n",
    "ttest_df.reset_index(drop=True, inplace=True)\r\n",
    "ttest_df.sort_values(by='p-unc', inplace=True)\r\n",
    "ttest_df.sort_values(by='hedges', inplace=True)"
   ]
  },
  {
   "cell_type": "code",
   "execution_count": 15,
   "metadata": {},
   "outputs": [
    {
     "data": {
      "text/html": "<div>\n<style scoped>\n    .dataframe tbody tr th:only-of-type {\n        vertical-align: middle;\n    }\n\n    .dataframe tbody tr th {\n        vertical-align: top;\n    }\n\n    .dataframe thead th {\n        text-align: right;\n    }\n</style>\n<table border=\"1\" class=\"dataframe\">\n  <thead>\n    <tr style=\"text-align: right;\">\n      <th></th>\n      <th>Feature</th>\n      <th>Significance</th>\n      <th>p-unc</th>\n      <th>hedges</th>\n      <th>Contrast</th>\n      <th>...</th>\n      <th>B</th>\n      <th>Paired</th>\n      <th>Parametric</th>\n      <th>U-val</th>\n      <th>Tail</th>\n    </tr>\n  </thead>\n  <tbody>\n    <tr>\n      <th>12</th>\n      <td>CT_original_shape_SurfaceVolumeRatio</td>\n      <td>True</td>\n      <td>0.002744</td>\n      <td>-1.007454</td>\n      <td>Class</td>\n      <td>...</td>\n      <td>Remission</td>\n      <td>False</td>\n      <td>False</td>\n      <td>109.0</td>\n      <td>two-sided</td>\n    </tr>\n    <tr>\n      <th>863</th>\n      <td>PET_original_shape_SurfaceVolumeRatio</td>\n      <td>True</td>\n      <td>0.003233</td>\n      <td>-0.979647</td>\n      <td>Class</td>\n      <td>...</td>\n      <td>Remission</td>\n      <td>False</td>\n      <td>False</td>\n      <td>112.0</td>\n      <td>two-sided</td>\n    </tr>\n    <tr>\n      <th>463</th>\n      <td>CT_wavelet-HLL_ngtdm_Contrast</td>\n      <td>True</td>\n      <td>0.002457</td>\n      <td>-0.909553</td>\n      <td>Class</td>\n      <td>...</td>\n      <td>Remission</td>\n      <td>False</td>\n      <td>False</td>\n      <td>107.0</td>\n      <td>two-sided</td>\n    </tr>\n    <tr>\n      <th>757</th>\n      <td>CT_wavelet-HHH_gldm_SmallDependenceLowGrayLeve...</td>\n      <td>True</td>\n      <td>0.003233</td>\n      <td>-0.830975</td>\n      <td>Class</td>\n      <td>...</td>\n      <td>Remission</td>\n      <td>False</td>\n      <td>False</td>\n      <td>112.0</td>\n      <td>two-sided</td>\n    </tr>\n    <tr>\n      <th>1033</th>\n      <td>PET_wavelet-LLH_ngtdm_Coarseness</td>\n      <td>True</td>\n      <td>0.004455</td>\n      <td>-0.819385</td>\n      <td>Class</td>\n      <td>...</td>\n      <td>Remission</td>\n      <td>False</td>\n      <td>False</td>\n      <td>118.0</td>\n      <td>two-sided</td>\n    </tr>\n    <tr>\n      <th>...</th>\n      <td>...</td>\n      <td>...</td>\n      <td>...</td>\n      <td>...</td>\n      <td>...</td>\n      <td>...</td>\n      <td>...</td>\n      <td>...</td>\n      <td>...</td>\n      <td>...</td>\n      <td>...</td>\n    </tr>\n    <tr>\n      <th>77</th>\n      <td>CT_original_glszm_LargeAreaHighGrayLevelEmphasis</td>\n      <td>True</td>\n      <td>0.001562</td>\n      <td>1.720679</td>\n      <td>Class</td>\n      <td>...</td>\n      <td>Remission</td>\n      <td>False</td>\n      <td>False</td>\n      <td>477.0</td>\n      <td>two-sided</td>\n    </tr>\n    <tr>\n      <th>821</th>\n      <td>CT_wavelet-LLL_glszm_LargeAreaHighGrayLevelEmp...</td>\n      <td>True</td>\n      <td>0.001313</td>\n      <td>1.745490</td>\n      <td>Class</td>\n      <td>...</td>\n      <td>Remission</td>\n      <td>False</td>\n      <td>False</td>\n      <td>480.0</td>\n      <td>two-sided</td>\n    </tr>\n    <tr>\n      <th>800</th>\n      <td>CT_wavelet-LLL_glrlm_GrayLevelNonUniformity</td>\n      <td>True</td>\n      <td>0.003601</td>\n      <td>1.851233</td>\n      <td>Class</td>\n      <td>...</td>\n      <td>Remission</td>\n      <td>False</td>\n      <td>False</td>\n      <td>462.0</td>\n      <td>two-sided</td>\n    </tr>\n    <tr>\n      <th>56</th>\n      <td>CT_original_glrlm_GrayLevelNonUniformity</td>\n      <td>True</td>\n      <td>0.003412</td>\n      <td>1.892895</td>\n      <td>Class</td>\n      <td>...</td>\n      <td>Remission</td>\n      <td>False</td>\n      <td>False</td>\n      <td>463.0</td>\n      <td>two-sided</td>\n    </tr>\n    <tr>\n      <th>1465</th>\n      <td>PET_wavelet-HHL_glrlm_GrayLevelNonUniformity</td>\n      <td>True</td>\n      <td>0.009533</td>\n      <td>2.038394</td>\n      <td>Class</td>\n      <td>...</td>\n      <td>Remission</td>\n      <td>False</td>\n      <td>False</td>\n      <td>443.0</td>\n      <td>two-sided</td>\n    </tr>\n  </tbody>\n</table>\n<p>102 rows × 11 columns</p>\n</div>",
      "text/plain": "                                                Feature Significance  \\\n12                 CT_original_shape_SurfaceVolumeRatio         True   \n863               PET_original_shape_SurfaceVolumeRatio         True   \n463                       CT_wavelet-HLL_ngtdm_Contrast         True   \n757   CT_wavelet-HHH_gldm_SmallDependenceLowGrayLeve...         True   \n1033                   PET_wavelet-LLH_ngtdm_Coarseness         True   \n...                                                 ...          ...   \n77     CT_original_glszm_LargeAreaHighGrayLevelEmphasis         True   \n821   CT_wavelet-LLL_glszm_LargeAreaHighGrayLevelEmp...         True   \n800         CT_wavelet-LLL_glrlm_GrayLevelNonUniformity         True   \n56             CT_original_glrlm_GrayLevelNonUniformity         True   \n1465       PET_wavelet-HHL_glrlm_GrayLevelNonUniformity         True   \n\n         p-unc    hedges Contrast  ...          B Paired  Parametric  U-val  \\\n12    0.002744 -1.007454    Class  ...  Remission  False       False  109.0   \n863   0.003233 -0.979647    Class  ...  Remission  False       False  112.0   \n463   0.002457 -0.909553    Class  ...  Remission  False       False  107.0   \n757   0.003233 -0.830975    Class  ...  Remission  False       False  112.0   \n1033  0.004455 -0.819385    Class  ...  Remission  False       False  118.0   \n...        ...       ...      ...  ...        ...    ...         ...    ...   \n77    0.001562  1.720679    Class  ...  Remission  False       False  477.0   \n821   0.001313  1.745490    Class  ...  Remission  False       False  480.0   \n800   0.003601  1.851233    Class  ...  Remission  False       False  462.0   \n56    0.003412  1.892895    Class  ...  Remission  False       False  463.0   \n1465  0.009533  2.038394    Class  ...  Remission  False       False  443.0   \n\n           Tail  \n12    two-sided  \n863   two-sided  \n463   two-sided  \n757   two-sided  \n1033  two-sided  \n...         ...  \n77    two-sided  \n821   two-sided  \n800   two-sided  \n56    two-sided  \n1465  two-sided  \n\n[102 rows x 11 columns]"
     },
     "metadata": {},
     "output_type": "display_data"
    }
   ],
   "source": [
    "with pd.option_context('display.max_rows', 100, 'display.max_columns', 10):\r\n",
    "    display(ttest_df.loc[ttest_df['Significance']=='True'])\r\n"
   ]
  }
 ],
 "metadata": {
  "kernelspec": {
   "display_name": "Python 3.8.6 64-bit",
   "name": "python386jvsc74a57bd0615a7dda892719774096587b3a7293a99c271efcca0a9ce908482d067af6d18b"
  },
  "language_info": {
   "name": "python",
   "version": ""
  },
  "metadata": {
   "interpreter": {
    "hash": "615a7dda892719774096587b3a7293a99c271efcca0a9ce908482d067af6d18b"
   }
  },
  "orig_nbformat": 2
 },
 "nbformat": 4,
 "nbformat_minor": 2
}