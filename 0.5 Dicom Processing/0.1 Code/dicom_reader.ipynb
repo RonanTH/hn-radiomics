{
 "cells": [
  {
   "cell_type": "code",
   "execution_count": 83,
   "metadata": {},
   "outputs": [],
   "source": [
    "import numpy as np\r\n",
    "import pandas as pd\r\n",
    "import pydicom as pydi\r\n",
    "import os\r\n"
   ]
  },
  {
   "cell_type": "code",
   "execution_count": 84,
   "metadata": {},
   "outputs": [],
   "source": [
    "root_path = \"X:\\\\0.0 DATASETS\\\\QIN DATASET\\\\QIN-HEADNECK\\\\0.4 Tonsil Cases - Cleaned\""
   ]
  },
  {
   "cell_type": "code",
   "execution_count": 85,
   "metadata": {},
   "outputs": [],
   "source": [
    "i = os.walk(root_path)"
   ]
  },
  {
   "cell_type": "code",
   "execution_count": 86,
   "metadata": {},
   "outputs": [],
   "source": [
    "directories = []\r\n",
    "for root, dirs, files in os.walk(root_path, topdown=False):\r\n",
    "    for name in dirs:\r\n",
    "        directories.append(os.path.join(root, name))"
   ]
  },
  {
   "cell_type": "code",
   "execution_count": 87,
   "metadata": {},
   "outputs": [],
   "source": [
    "matches = [os.path.join(r, fn)\r\n",
    "        for r, ds, fs in os.walk(root_path) \r\n",
    "        for fn in fs if fn.endswith('1-001.dcm')]"
   ]
  },
  {
   "cell_type": "code",
   "execution_count": 88,
   "metadata": {},
   "outputs": [
    {
     "data": {
      "text/plain": "'X:\\\\0.0 DATASETS\\\\QIN DATASET\\\\QIN-HEADNECK\\\\0.4 Tonsil Cases - Cleaned\\\\QIN-HEADNECK-01-0003\\\\03-11-1986-Thorax1HEADNECKPETCT-79415\\\\CT WB 5.0 B40sCHEST-51175\\\\1-001.dcm'"
     },
     "execution_count": 88,
     "metadata": {},
     "output_type": "execute_result"
    }
   ],
   "source": [
    "matches[0]"
   ]
  },
  {
   "cell_type": "code",
   "execution_count": 89,
   "metadata": {},
   "outputs": [
    {
     "name": "stdout",
     "output_type": "stream",
     "text": [
      "[(0008, 0070), (0008, 1090)]\n"
     ]
    },
    {
     "data": {
      "text/plain": "'SIEMENS'"
     },
     "execution_count": 89,
     "metadata": {},
     "output_type": "execute_result"
    }
   ],
   "source": [
    "tags = [pydi.tag.Tag(0x8,0x70),pydi.tag.Tag(0x8,0x1090)]\r\n",
    "# tags=[]\r\n",
    "print(tags)\r\n",
    "test = pydi.dcmread(matches[0],specific_tags=tags,stop_before_pixels=True)\r\n",
    "\r\n",
    "test[tags[0]].value"
   ]
  },
  {
   "cell_type": "code",
   "execution_count": 90,
   "metadata": {},
   "outputs": [],
   "source": [
    "tags = [pydi.tag.Tag(0x8,0x70),pydi.tag.Tag(0x8,0x1090)]\r\n",
    "models =[]\r\n",
    "for match in matches:\r\n",
    "    temp = pydi.dcmread(match,specific_tags=tags,stop_before_pixels=True)\r\n",
    "    model = temp[tags[0]].value + ' - ' + temp[tags[1]].value\r\n",
    "    if model not in models:\r\n",
    "        models.append(model)"
   ]
  },
  {
   "cell_type": "code",
   "execution_count": 91,
   "metadata": {},
   "outputs": [
    {
     "data": {
      "text/plain": "['SIEMENS - Emotion Duo',\n 'CPS - 1023',\n 'SIEMENS - Sensation 40',\n 'SIEMENS - 1093',\n 'SIEMENS - Biograph 40',\n 'SIEMENS - Biograph 64_mCT',\n 'SIEMENS - Biograph 64',\n 'SIEMENS - Biograph40_TruePoint',\n 'SIEMENS - Biograph64_mCT',\n 'SIEMENS - Biograph64']"
     },
     "execution_count": 91,
     "metadata": {},
     "output_type": "execute_result"
    }
   ],
   "source": [
    "models"
   ]
  }
 ],
 "metadata": {
  "kernelspec": {
   "display_name": "Python 3.8.6 64-bit",
   "name": "python386jvsc74a57bd0615a7dda892719774096587b3a7293a99c271efcca0a9ce908482d067af6d18b"
  },
  "language_info": {
   "codemirror_mode": {
    "name": "ipython",
    "version": 3
   },
   "file_extension": ".py",
   "mimetype": "text/x-python",
   "name": "python",
   "nbconvert_exporter": "python",
   "pygments_lexer": "ipython3",
   "version": "3.8.6"
  },
  "metadata": {
   "interpreter": {
    "hash": "615a7dda892719774096587b3a7293a99c271efcca0a9ce908482d067af6d18b"
   }
  },
  "orig_nbformat": 2
 },
 "nbformat": 4,
 "nbformat_minor": 2
}