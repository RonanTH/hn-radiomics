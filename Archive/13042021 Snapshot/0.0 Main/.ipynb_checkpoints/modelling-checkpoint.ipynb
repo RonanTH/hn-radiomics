{
 "cells": [
  {
   "cell_type": "code",
   "execution_count": 29,
   "metadata": {},
   "outputs": [],
   "source": [
    "import numpy as np\n",
    "import pandas as pd\n",
    "import os\n",
    "\n",
    "\n",
    "\n",
    "from skfeature.function.statistical_based import CFS\n",
    "from skfeature.function.wrapper.svm_forward import svm_forward\n",
    "\n",
    "from sklearn import preprocessing\n",
    "from sklearn.pipeline import Pipeline\n",
    "from sklearn import linear_model\n",
    "from sklearn.naive_bayes import GaussianNB\n",
    "from sklearn.svm import SVC\n",
    "\n",
    "from sklearn.tree import DecisionTreeClassifier\n",
    "\n",
    "from sklearn.feature_selection import SelectFromModel, RFE\n",
    "\n",
    "\n",
    "from imblearn.over_sampling import SMOTE\n",
    "\n",
    "from collections import Counter\n",
    "\n",
    "from sklearn.model_selection import StratifiedKFold\n",
    "from sklearn.metrics import confusion_matrix, auc, roc_auc_score, roc_curve,plot_confusion_matrix\n",
    "\n",
    "import matplotlib.pyplot as plt\n"
   ]
  },
  {
   "cell_type": "code",
   "execution_count": 2,
   "metadata": {},
   "outputs": [],
   "source": [
    "root = os.getcwd()[:-8]\n",
    "image_feats = pd.read_csv(root + '0.2 outputs/Merged_Features.csv')"
   ]
  },
  {
   "cell_type": "code",
   "execution_count": 3,
   "metadata": {},
   "outputs": [],
   "source": [
    "image_features = image_feats.iloc[:, 1:-1].to_numpy()\n",
    "image_targets = image_feats.iloc[:, -1].to_numpy()"
   ]
  },
  {
   "cell_type": "code",
   "execution_count": 4,
   "metadata": {},
   "outputs": [
    {
     "name": "stdout",
     "output_type": "stream",
     "text": [
      "n splits = 2\n",
      "Train Set: Counter({'Remission': 32, 'Progression': 5})\n",
      "Test Set: Counter({'Remission': 32, 'Progression': 4})\n",
      "Train Set: Counter({0: 32, 1: 5})\n",
      "Test Set: Counter({0: 32, 1: 4})\n"
     ]
    }
   ],
   "source": [
    "skf = StratifiedKFold(n_splits =2)\n",
    "\n",
    "print(f'n splits = {skf.get_n_splits()}')\n",
    "\n",
    "for train_index, test_index in skf.split(image_features, image_targets):\n",
    "    feats_train, feats_test = image_features[train_index], image_features[test_index]\n",
    "    target_train, target_test = image_targets[train_index], image_targets[test_index]\n",
    "    \n",
    "print(f'Train Set: {Counter(target_train)}')\n",
    "print(f'Test Set: {Counter(target_test)}')\n",
    "\n",
    "le = preprocessing.LabelEncoder()\n",
    "le.fit(target_train)\n",
    "le.classes_ = le.classes_[::-1]\n",
    "target_train=le.transform(target_train)\n",
    "target_test=le.transform(target_test)\n",
    "\n",
    "print(f'Train Set: {Counter(target_train)}')\n",
    "print(f'Test Set: {Counter(target_test)}')\n"
   ]
  },
  {
   "cell_type": "code",
   "execution_count": 5,
   "metadata": {},
   "outputs": [
    {
     "name": "stdout",
     "output_type": "stream",
     "text": [
      "Train Set: Counter({0: 32, 1: 32})\n"
     ]
    }
   ],
   "source": [
    "oversample = SMOTE(k_neighbors=4)\n",
    "feats_train, target_train = oversample.fit_resample(feats_train, target_train)\n",
    "print(f'Train Set: {Counter(target_train)}')"
   ]
  },
  {
   "cell_type": "code",
   "execution_count": null,
   "metadata": {},
   "outputs": [],
   "source": []
  },
  {
   "cell_type": "code",
   "execution_count": 38,
   "metadata": {},
   "outputs": [
    {
     "name": "stdout",
     "output_type": "stream",
     "text": [
      "Number of mislabeled points out of a total 36 points : 6\n",
      "Accuracy: 0.8333333333333334\n",
      "AUC: 0.875\n"
     ]
    },
    {
     "data": {
      "image/png": "[encoded data removed]",
      "text/plain": [
       "<Figure size 432x288 with 2 Axes>"
      ]
     },
     "metadata": {
      "needs_background": "light"
     },
     "output_type": "display_data"
    }
   ],
   "source": [
    "gnb = GaussianNB()\n",
    "y_pred = gnb.fit(feats_train, target_train).predict(feats_test)\n",
    "y_probas = gnb.fit(feats_train, target_train).predict_proba(feats_test)\n",
    "accuracy = gnb.fit(feats_train, target_train).score(feats_test,target_test)\n",
    "\n",
    "print(f\"Number of mislabeled points out of a total {len(feats_test)} points : {(target_test != y_pred).sum()}\")\n",
    "print(f'Accuracy: {accuracy}\\nAUC: {roc_auc_score(target_test, y_probas[:,1])}')\n",
    "# print(confusion_matrix(target_test, y_pred, labels=[1,0]))\n",
    "cm =plot_confusion_matrix(gnb, feats_test,target_test)\n",
    "plt.show()"
   ]
  },
  {
   "cell_type": "code",
   "execution_count": 8,
   "metadata": {},
   "outputs": [],
   "source": [
    "cfs = CFS.cfs(feats_train, target_train)\n"
   ]
  },
  {
   "cell_type": "code",
   "execution_count": 36,
   "metadata": {},
   "outputs": [],
   "source": [
    "clf = Pipeline([\n",
    "  ('feature_selection', SelectFromModel(DecisionTreeClassifier())),\n",
    "  ('classification', DecisionTreeClassifier())\n",
    "])\n"
   ]
  },
  {
   "cell_type": "code",
   "execution_count": 37,
   "metadata": {},
   "outputs": [
    {
     "name": "stdout",
     "output_type": "stream",
     "text": [
      "Number of mislabeled points out of a total 36 points : 7\n",
      "Accuracy: 0.8055555555555556\n",
      "AUC: 0.5625\n"
     ]
    },
    {
     "data": {
      "image/png": "[encoded data removed]",
      "text/plain": [
       "<Figure size 432x288 with 2 Axes>"
      ]
     },
     "metadata": {
      "needs_background": "light"
     },
     "output_type": "display_data"
    }
   ],
   "source": [
    "\n",
    "fit = clf.fit(feats_train, target_train)\n",
    "\n",
    "\n",
    "y_pred = fit.predict(feats_test)\n",
    "y_probas = fit.predict_proba(feats_test)\n",
    "\n",
    "\n",
    "accuracy = fit.score(feats_test,target_test)\n",
    "\n",
    "print(f\"Number of mislabeled points out of a total {len(feats_test)} points : {(target_test != y_pred).sum()}\")\n",
    "print(f'Accuracy: {accuracy}\\nAUC: {roc_auc_score(target_test, y_probas[:,1])}')\n",
    "# print(confusion_matrix(target_test, y_pred, labels=[1,0]))\n",
    "cm =plot_confusion_matrix(clf, feats_test,target_test)\n",
    "plt.show()"
   ]
  },
  {
   "cell_type": "code",
   "execution_count": null,
   "metadata": {},
   "outputs": [],
   "source": [
    "feats_train = feats_train[:,cfs]\n",
    "feats_test = feats_test[:,cfs]\n",
    "\n",
    "\n",
    "gnb = GaussianNB()\n",
    "y_pred = gnb.fit(feats_train, target_train).predict(feats_test)\n",
    "y_probas = gnb.fit(feats_train, target_train).predict_proba(feats_test)\n",
    "accuracy = gnb.fit(feats_train, target_train).score(feats_test,target_test)\n",
    "\n",
    "print(f\"Number of mislabeled points out of a total {len(feats_test)} points : {(target_test != y_pred).sum()}\")\n",
    "print(f'Accuracy: {accuracy}\\nAUC: {roc_auc_score(target_test, y_probas[:,1])}')\n",
    "# print(confusion_matrix(target_test, y_pred, labels=[1,0]))\n",
    "cm =plot_confusion_matrix(gnb, feats_test,target_test)\n",
    "plt.show()"
   ]
  },
  {
   "cell_type": "code",
   "execution_count": null,
   "metadata": {},
   "outputs": [],
   "source": [
    "svm = SVC(probability=True)\n",
    "fit = svm.fit(feats_train, target_train)\n",
    "\n",
    "y_pred = fit.predict(feats_test)\n",
    "y_probas = fit.predict_proba(feats_test)\n",
    "\n",
    "\n",
    "accuracy = fit.score(feats_test,target_test)\n",
    "\n",
    "print(f\"Number of mislabeled points out of a total {len(feats_test)} points : {(target_test != y_pred).sum()}\")\n",
    "print(f'Accuracy: {accuracy}\\nAUC: {roc_auc_score(target_test, y_probas[:,1])}')\n",
    "# print(confusion_matrix(target_test, y_pred, labels=[1,0]))\n",
    "cm =plot_confusion_matrix(gnb, feats_test,target_test)\n",
    "plt.show()"
   ]
  }
 ],
 "metadata": {
  "kernelspec": {
   "display_name": "Python 3",
   "language": "python",
   "name": "python3"
  },
  "language_info": {
   "codemirror_mode": {
    "name": "ipython",
    "version": 3
   },
   "file_extension": ".py",
   "mimetype": "text/x-python",
   "name": "python",
   "nbconvert_exporter": "python",
   "pygments_lexer": "ipython3",
   "version": "3.8.6"
  }
 },
 "nbformat": 4,
 "nbformat_minor": 4
}
