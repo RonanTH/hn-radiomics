{
 "cells": [
  {
   "cell_type": "code",
   "execution_count": 1,
   "metadata": {},
   "outputs": [],
   "source": [
    "import pandas as pd\n",
    "import numpy as np\n",
    "import SimpleITK as sitk\n",
    "from radiomics import featureextractor\n",
    "import csv\n",
    "import os\n",
    "import radiomics\n",
    "import argparse\n",
    "# import istarmap\n",
    "import matplotlib.pyplot as plt\n",
    "import matplotlib.cm as cm\n",
    "import copy\n",
    "import sys\n",
    "\n",
    "from itertools import repeat\n",
    "from tqdm import tqdm, trange\n",
    "from multiprocessing import get_context"
   ]
  },
  {
   "cell_type": "code",
   "execution_count": 2,
   "metadata": {},
   "outputs": [],
   "source": [
    "def parse_csv(csv_path):\n",
    "    path_dicts = []\n",
    "    with open(csv_path, 'r') as file:\n",
    "        csv_file = csv.DictReader(file)\n",
    "        for row in csv_file:\n",
    "            path_dicts.append(row)\n",
    "        n_instances = len(path_dicts)\n",
    "        print(f'Parsed {n_instances} image-mask pairs')  \n",
    "    return path_dicts"
   ]
  },
  {
   "cell_type": "code",
   "execution_count": 3,
   "metadata": {},
   "outputs": [],
   "source": [
    "def flatten_mask_labels(mask_path):\n",
    "    ma = sitk.ReadImage(mask_path)\n",
    "    ma_arr = sitk.GetArrayFromImage(ma)\n",
    "    \n",
    "    for l in range(1,ma_arr.max()+1):\n",
    "        ma_arr[ma_arr == l] = 1\n",
    "        \n",
    "    ma_merged = sitk.GetImageFromArray(ma_arr)\n",
    "    ma_merged.CopyInformation(ma)\n",
    "    \n",
    "    return ma_merged"
   ]
  },
  {
   "cell_type": "code",
   "execution_count": 1,
   "metadata": {},
   "outputs": [],
   "source": [
    "root = os.getcwd()\n",
    "    \n",
    "main_dir = root\n",
    "root = root[:-8]\n",
    "input_dir = root+'\\\\0.1 inputs'\n",
    "output_dir = root+'\\\\0.2 outputs'\n",
    "params_dir = root+'\\\\0.3 parameters'"
   ]
  },
  {
   "cell_type": "code",
   "execution_count": 5,
   "metadata": {},
   "outputs": [],
   "source": [
    "def save_images(cur_path):\n",
    "    sys.stdout.write(cur_path)\n",
    "    save_dir = os.path.split(cur_path['Image'])[0]\n",
    "    save_dir = save_dir[0:63]+'Masked_Images\\\\'+save_dir[63:]+'\\\\'+str(mod)\n",
    "\n",
    "    try:\n",
    "        os.makedirs(save_dir)\n",
    "    except:\n",
    "        # print('Path already exists')\n",
    "        pass\n",
    "\n",
    "    mask = flatten_mask_labels(cur_path['Mask'])\n",
    "    mask_array = sitk.GetArrayFromImage(mask)\n",
    "    mask_indices = np.nonzero(np.sum(mask_array,axis=(1,2)))[0]\n",
    "\n",
    "    image = sitk.ReadImage(cur_path['Image'])\n",
    "    image_array = sitk.GetArrayFromImage(image)\n",
    "\n",
    "    if mod=='CT':\n",
    "        image_cmap = 'gray'\n",
    "    else:\n",
    "        image_cmap = 'gray_r'\n",
    "\n",
    "\n",
    "    for j in mask_indices:\n",
    "        fig = plt.figure(figsize=(15,15))\n",
    "        plt.imshow(image_array[j],cmap=image_cmap)\n",
    "        mask_array[j] = np.ma.masked_where(mask_array[j]<0.9, mask_array[j])\n",
    "        plt.imshow(mask_array[j],cmap=my_cmap,interpolation='none', alpha=0.5,clim=[0.9, 1])\n",
    "        plt.text(5,10,'Slice: '+str(j),backgroundcolor='white')\n",
    "        plt.savefig(save_dir+'\\\\'+'Masked_Image_'+str(j).zfill(4)+'.png')\n",
    "        plt.close()\n",
    "\n",
    "        fig = plt.figure(figsize=(15,15))\n",
    "        plt.imshow(image_array[j],cmap=image_cmap)\n",
    "        plt.text(5,10,'Slice: '+str(j),backgroundcolor='white')\n",
    "        plt.savefig(save_dir+'\\\\'+'Original_Image_'+str(j).zfill(4)+'.png')\n",
    "        plt.close()"
   ]
  },
  {
   "cell_type": "code",
   "execution_count": 6,
   "metadata": {},
   "outputs": [],
   "source": [
    "def run_parallel(n, func, paths):\n",
    "    \"\"\"Executes a function in parallel on a list of inputs\n",
    "\n",
    "    Args:\n",
    "        n (int): Number of workers to use\n",
    "        func (function): function to be used\n",
    "        inputs (list): inputs required for the function\n",
    "    \"\"\"\n",
    "    result =[]\n",
    "    with Pool(n) as p:\n",
    "        p.map(func, paths)\n",
    "    return "
   ]
  },
  {
   "cell_type": "code",
   "execution_count": 7,
   "metadata": {},
   "outputs": [
    {
     "name": "stderr",
     "output_type": "stream",
     "text": [
      "Timepoint Progress:   0%|          | 0/2 [00:00<?, ?it/s]\n",
      "Modality::   0%|          | 0/2 [00:00<?, ?it/s]\u001b[AParsed 73 image-mask pairs\n"
     ]
    }
   ],
   "source": [
    "my_cmap = copy.copy(cm.spring)\n",
    "my_cmap.set_under('k', alpha=0)\n",
    "modalities = ['CT', 'PET']\n",
    "n=24\n",
    "timepoints = [1,2]\n",
    "for timepoint in tqdm(timepoints,desc=\"Timepoint Progress\"):\n",
    "\n",
    "    input_files = {\"CT\":input_dir+'\\\\T'+str(timepoint)+'\\\\CT_paths_T'+str(timepoint)+'.csv',\n",
    "                    \"PET\":input_dir+'\\\\T'+str(timepoint)+'\\\\PET_paths_T'+str(timepoint)+'.csv'}\n",
    "\n",
    "    # mod = modalities[0]\n",
    "    for mod in tqdm(modalities, desc=\"Modality:\"):\n",
    "        path_dicts = parse_csv(input_files[mod])\n",
    "\n",
    "        # for cur_path in tqdm(path_dicts, desc ='Patient:'):\n",
    "        #     save_images(cur_path)\n",
    "\n",
    "        with Pool(n) as p:\n",
    "            p.map(save_images, path_dicts)"
   ]
  },
  {
   "cell_type": "code",
   "execution_count": null,
   "metadata": {},
   "outputs": [],
   "source": []
  }
 ],
 "metadata": {
  "kernelspec": {
   "display_name": "Python 3.8.6 64-bit",
   "name": "python386jvsc74a57bd0615a7dda892719774096587b3a7293a99c271efcca0a9ce908482d067af6d18b"
  },
  "language_info": {
   "name": "python",
   "version": ""
  },
  "metadata": {
   "interpreter": {
    "hash": "615a7dda892719774096587b3a7293a99c271efcca0a9ce908482d067af6d18b"
   }
  },
  "orig_nbformat": 2
 },
 "nbformat": 4,
 "nbformat_minor": 2
}