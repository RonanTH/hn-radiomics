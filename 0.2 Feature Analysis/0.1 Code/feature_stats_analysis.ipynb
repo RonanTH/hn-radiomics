{
 "cells": [
  {
   "cell_type": "markdown",
   "metadata": {},
   "source": [
    "# Import Modules"
   ]
  },
  {
   "cell_type": "code",
   "execution_count": 1,
   "metadata": {},
   "outputs": [],
   "source": [
    "# General modules & loading data\n",
    "import pandas as pd\n",
    "import numpy as np\n",
    "import os\n",
    "import matplotlib.pyplot as plt\n",
    "from IPython.display import display\n",
    "import os.path as pth\n",
    "\n",
    "from tqdm import trange\n",
    "\n",
    "import pingouin as pg"
   ]
  },
  {
   "cell_type": "code",
   "execution_count": 2,
   "metadata": {},
   "outputs": [],
   "source": [
    "pd.options.display.max_rows = 20"
   ]
  },
  {
   "cell_type": "code",
   "execution_count": 3,
   "metadata": {},
   "outputs": [],
   "source": [
    "def normality_test(dataset, timepoint='t1'):\n",
    "    normality_test_df = pd.DataFrame()\n",
    "\n",
    "    for i in trange(1,dataset[timepoint].shape[1]-2):\n",
    "        ntest = pg.normality(dataset[timepoint], dv=dataset[timepoint].iloc[:,i:i+1].columns[0], group='Class')\n",
    "        normality_test_df = normality_test_df.append({\n",
    "                        'Variable':dataset[timepoint].iloc[:,i:i+1].columns[0],\n",
    "                        'Remission_Normality': str(ntest['normal']['Remission']),\n",
    "                        'Remission_p_value': ntest['pval']['Remission'],\n",
    "                        'Progression_Normality': str(ntest['normal']['Progression']),\n",
    "                        'Progression_p_value': ntest['pval']['Progression']\n",
    "                        }, \n",
    "                    ignore_index=True)\n",
    "\n",
    "    normality_test_df = normality_test_df.reindex(columns = ['Variable',\n",
    "                                                            'Remission_Normality',\n",
    "                                                            'Progression_Normality',\n",
    "                                                            'Remission_p_value',\n",
    "                                                            'Progression_p_value'])\n",
    "    return normality_test_df\n"
   ]
  },
  {
   "cell_type": "code",
   "execution_count": 4,
   "metadata": {},
   "outputs": [],
   "source": [
    "def significance_test(dataset, timepoint='t1', alpha= 0.05):\n",
    "    ttest_df = pd.DataFrame()\n",
    "\n",
    "    for i in trange(1,dataset[timepoint].shape[1]-2):\n",
    "        res = pg.pairwise_ttests(data=dataset[timepoint], \n",
    "                                dv=dataset[timepoint].iloc[:,i:i+1].columns[0], \n",
    "                                between='Class', \n",
    "                                parametric=False, \n",
    "                                correction='auto',\n",
    "                                alpha=alpha)\n",
    "        \n",
    "        res['Feature'] = dataset[timepoint].iloc[:,i:i+1].columns[0]\n",
    "        res['Significance'] = str((res['p-unc']<alpha)[0])\n",
    "        ttest_df=ttest_df.append(res)\n",
    "        \n",
    "    ttest_df = ttest_df.reindex(columns=['Feature',\n",
    "                                    'Significance',\n",
    "                                    'p-unc',\n",
    "                                    'hedges',\n",
    "                                    'Contrast', \n",
    "                                    'A', \n",
    "                                    'B', \n",
    "                                    'Paired', \n",
    "                                    'Parametric', \n",
    "                                    'U-val', \n",
    "                                    'Tail'])\n",
    "\n",
    "    ttest_df.reset_index(drop=True, inplace=True)\n",
    "    ttest_df.sort_values(by='p-unc', inplace=True)\n",
    "    ttest_df.sort_values(by='hedges', inplace=True)\n",
    "\n",
    "    return ttest_df"
   ]
  },
  {
   "cell_type": "markdown",
   "metadata": {},
   "source": [
    "# Load Data"
   ]
  },
  {
   "cell_type": "markdown",
   "metadata": {},
   "source": [
    "## Load feature set"
   ]
  },
  {
   "cell_type": "code",
   "execution_count": 5,
   "metadata": {},
   "outputs": [],
   "source": [
    "cwd = os.getcwd()\n",
    "\n",
    "project_root =  pth.dirname(pth.dirname(cwd))\n",
    "feat_output_path = pth.join(project_root,'0.1 Feature Extraction\\\\0.2 Outputs\\\\0.1 Extracted Features')\n",
    "output_path = pth.join(pth.dirname(cwd),'0.2 Outputs')\n",
    "\n",
    "image_feats = {'t1': pd.read_csv(feat_output_path + '\\T1\\Merged_Features_T1.csv'),\n",
    "               't2': pd.read_csv(feat_output_path + '\\T2\\Merged_Features_T2.csv')}\n"
   ]
  },
  {
   "cell_type": "markdown",
   "metadata": {},
   "source": [
    "## Test for normality in remission and progression distributions"
   ]
  },
  {
   "cell_type": "code",
   "execution_count": 8,
   "metadata": {},
   "outputs": [
    {
     "name": "stderr",
     "output_type": "stream",
     "text": [
      "100%|██████████| 1702/1702 [00:10<00:00, 157.51it/s]\n"
     ]
    },
    {
     "data": {
      "text/html": "<div>\n<style scoped>\n    .dataframe tbody tr th:only-of-type {\n        vertical-align: middle;\n    }\n\n    .dataframe tbody tr th {\n        vertical-align: top;\n    }\n\n    .dataframe thead th {\n        text-align: right;\n    }\n</style>\n<table border=\"1\" class=\"dataframe\">\n  <thead>\n    <tr style=\"text-align: right;\">\n      <th></th>\n      <th>Variable</th>\n      <th>Remission_Normality</th>\n      <th>Progression_Normality</th>\n      <th>Remission_p_value</th>\n      <th>Progression_p_value</th>\n    </tr>\n  </thead>\n  <tbody>\n    <tr>\n      <th>0</th>\n      <td>CT_original_shape_Elongation</td>\n      <td>True</td>\n      <td>False</td>\n      <td>1.086067e-01</td>\n      <td>0.026658</td>\n    </tr>\n    <tr>\n      <th>1</th>\n      <td>CT_original_shape_Flatness</td>\n      <td>True</td>\n      <td>True</td>\n      <td>2.000505e-01</td>\n      <td>0.139970</td>\n    </tr>\n    <tr>\n      <th>2</th>\n      <td>CT_original_shape_LeastAxisLength</td>\n      <td>True</td>\n      <td>True</td>\n      <td>5.146951e-02</td>\n      <td>0.088881</td>\n    </tr>\n    <tr>\n      <th>3</th>\n      <td>CT_original_shape_MajorAxisLength</td>\n      <td>False</td>\n      <td>True</td>\n      <td>3.000878e-03</td>\n      <td>0.050864</td>\n    </tr>\n    <tr>\n      <th>4</th>\n      <td>CT_original_shape_Maximum2DDiameterColumn</td>\n      <td>True</td>\n      <td>False</td>\n      <td>1.061043e-01</td>\n      <td>0.016650</td>\n    </tr>\n    <tr>\n      <th>...</th>\n      <td>...</td>\n      <td>...</td>\n      <td>...</td>\n      <td>...</td>\n      <td>...</td>\n    </tr>\n    <tr>\n      <th>1697</th>\n      <td>PET_wavelet-LLL_gldm_LargeDependenceLowGrayLev...</td>\n      <td>False</td>\n      <td>False</td>\n      <td>9.597299e-12</td>\n      <td>0.001602</td>\n    </tr>\n    <tr>\n      <th>1698</th>\n      <td>PET_wavelet-LLL_gldm_LowGrayLevelEmphasis</td>\n      <td>False</td>\n      <td>False</td>\n      <td>5.664038e-10</td>\n      <td>0.003519</td>\n    </tr>\n    <tr>\n      <th>1699</th>\n      <td>PET_wavelet-LLL_gldm_SmallDependenceEmphasis</td>\n      <td>False</td>\n      <td>True</td>\n      <td>4.510042e-09</td>\n      <td>0.084581</td>\n    </tr>\n    <tr>\n      <th>1700</th>\n      <td>PET_wavelet-LLL_gldm_SmallDependenceHighGrayLe...</td>\n      <td>False</td>\n      <td>False</td>\n      <td>7.924935e-08</td>\n      <td>0.002455</td>\n    </tr>\n    <tr>\n      <th>1701</th>\n      <td>PET_wavelet-LLL_gldm_SmallDependenceLowGrayLev...</td>\n      <td>False</td>\n      <td>False</td>\n      <td>7.510791e-10</td>\n      <td>0.004570</td>\n    </tr>\n  </tbody>\n</table>\n<p>1702 rows × 5 columns</p>\n</div>",
      "text/plain": [
       "                                               Variable Remission_Normality  \\\n",
       "0                          CT_original_shape_Elongation                True   \n",
       "1                            CT_original_shape_Flatness                True   \n",
       "2                     CT_original_shape_LeastAxisLength                True   \n",
       "3                     CT_original_shape_MajorAxisLength               False   \n",
       "4             CT_original_shape_Maximum2DDiameterColumn                True   \n",
       "...                                                 ...                 ...   \n",
       "1697  PET_wavelet-LLL_gldm_LargeDependenceLowGrayLev...               False   \n",
       "1698          PET_wavelet-LLL_gldm_LowGrayLevelEmphasis               False   \n",
       "1699       PET_wavelet-LLL_gldm_SmallDependenceEmphasis               False   \n",
       "1700  PET_wavelet-LLL_gldm_SmallDependenceHighGrayLe...               False   \n",
       "1701  PET_wavelet-LLL_gldm_SmallDependenceLowGrayLev...               False   \n",
       "\n",
       "     Progression_Normality  Remission_p_value  Progression_p_value  \n",
       "0                    False       1.086067e-01             0.026658  \n",
       "1                     True       2.000505e-01             0.139970  \n",
       "2                     True       5.146951e-02             0.088881  \n",
       "3                     True       3.000878e-03             0.050864  \n",
       "4                    False       1.061043e-01             0.016650  \n",
       "...                    ...                ...                  ...  \n",
       "1697                 False       9.597299e-12             0.001602  \n",
       "1698                 False       5.664038e-10             0.003519  \n",
       "1699                  True       4.510042e-09             0.084581  \n",
       "1700                 False       7.924935e-08             0.002455  \n",
       "1701                 False       7.510791e-10             0.004570  \n",
       "\n",
       "[1702 rows x 5 columns]"
      ]
     },
     "execution_count": 8,
     "metadata": {},
     "output_type": "execute_result"
    }
   ],
   "source": [
    "normality_test(image_feats, timepoint ='t1')"
   ]
  },
  {
   "cell_type": "code",
   "execution_count": 9,
   "metadata": {},
   "outputs": [
    {
     "name": "stderr",
     "output_type": "stream",
     "text": [
      " 92%|█████████▏| 1572/1702 [00:09<00:00, 164.76it/s]X:\\Python 64\\lib\\site-packages\\scipy\\stats\\morestats.py:1678: UserWarning: Input data for shapiro has range zero. The results may not be accurate.\n",
      "  warnings.warn(\"Input data for shapiro has range zero. The results \"\n",
      "100%|██████████| 1702/1702 [00:10<00:00, 160.93it/s]\n"
     ]
    },
    {
     "data": {
      "text/html": "<div>\n<style scoped>\n    .dataframe tbody tr th:only-of-type {\n        vertical-align: middle;\n    }\n\n    .dataframe tbody tr th {\n        vertical-align: top;\n    }\n\n    .dataframe thead th {\n        text-align: right;\n    }\n</style>\n<table border=\"1\" class=\"dataframe\">\n  <thead>\n    <tr style=\"text-align: right;\">\n      <th></th>\n      <th>Variable</th>\n      <th>Remission_Normality</th>\n      <th>Progression_Normality</th>\n      <th>Remission_p_value</th>\n      <th>Progression_p_value</th>\n    </tr>\n  </thead>\n  <tbody>\n    <tr>\n      <th>0</th>\n      <td>CT_original_shape_Elongation</td>\n      <td>True</td>\n      <td>True</td>\n      <td>5.047987e-01</td>\n      <td>0.917967</td>\n    </tr>\n    <tr>\n      <th>1</th>\n      <td>CT_original_shape_Flatness</td>\n      <td>False</td>\n      <td>True</td>\n      <td>1.661211e-04</td>\n      <td>0.544510</td>\n    </tr>\n    <tr>\n      <th>2</th>\n      <td>CT_original_shape_LeastAxisLength</td>\n      <td>False</td>\n      <td>False</td>\n      <td>4.145373e-02</td>\n      <td>0.001977</td>\n    </tr>\n    <tr>\n      <th>3</th>\n      <td>CT_original_shape_MajorAxisLength</td>\n      <td>True</td>\n      <td>True</td>\n      <td>9.315409e-01</td>\n      <td>0.123643</td>\n    </tr>\n    <tr>\n      <th>4</th>\n      <td>CT_original_shape_Maximum2DDiameterColumn</td>\n      <td>True</td>\n      <td>True</td>\n      <td>1.009033e-01</td>\n      <td>0.093471</td>\n    </tr>\n    <tr>\n      <th>...</th>\n      <td>...</td>\n      <td>...</td>\n      <td>...</td>\n      <td>...</td>\n      <td>...</td>\n    </tr>\n    <tr>\n      <th>1697</th>\n      <td>PET_wavelet-LLL_gldm_LargeDependenceLowGrayLev...</td>\n      <td>False</td>\n      <td>False</td>\n      <td>5.476088e-13</td>\n      <td>0.013555</td>\n    </tr>\n    <tr>\n      <th>1698</th>\n      <td>PET_wavelet-LLL_gldm_LowGrayLevelEmphasis</td>\n      <td>False</td>\n      <td>False</td>\n      <td>1.278927e-09</td>\n      <td>0.022127</td>\n    </tr>\n    <tr>\n      <th>1699</th>\n      <td>PET_wavelet-LLL_gldm_SmallDependenceEmphasis</td>\n      <td>True</td>\n      <td>True</td>\n      <td>7.519784e-01</td>\n      <td>0.835544</td>\n    </tr>\n    <tr>\n      <th>1700</th>\n      <td>PET_wavelet-LLL_gldm_SmallDependenceHighGrayLe...</td>\n      <td>False</td>\n      <td>False</td>\n      <td>1.036309e-15</td>\n      <td>0.000001</td>\n    </tr>\n    <tr>\n      <th>1701</th>\n      <td>PET_wavelet-LLL_gldm_SmallDependenceLowGrayLev...</td>\n      <td>False</td>\n      <td>False</td>\n      <td>2.753233e-08</td>\n      <td>0.027930</td>\n    </tr>\n  </tbody>\n</table>\n<p>1702 rows × 5 columns</p>\n</div>",
      "text/plain": [
       "                                               Variable Remission_Normality  \\\n",
       "0                          CT_original_shape_Elongation                True   \n",
       "1                            CT_original_shape_Flatness               False   \n",
       "2                     CT_original_shape_LeastAxisLength               False   \n",
       "3                     CT_original_shape_MajorAxisLength                True   \n",
       "4             CT_original_shape_Maximum2DDiameterColumn                True   \n",
       "...                                                 ...                 ...   \n",
       "1697  PET_wavelet-LLL_gldm_LargeDependenceLowGrayLev...               False   \n",
       "1698          PET_wavelet-LLL_gldm_LowGrayLevelEmphasis               False   \n",
       "1699       PET_wavelet-LLL_gldm_SmallDependenceEmphasis                True   \n",
       "1700  PET_wavelet-LLL_gldm_SmallDependenceHighGrayLe...               False   \n",
       "1701  PET_wavelet-LLL_gldm_SmallDependenceLowGrayLev...               False   \n",
       "\n",
       "     Progression_Normality  Remission_p_value  Progression_p_value  \n",
       "0                     True       5.047987e-01             0.917967  \n",
       "1                     True       1.661211e-04             0.544510  \n",
       "2                    False       4.145373e-02             0.001977  \n",
       "3                     True       9.315409e-01             0.123643  \n",
       "4                     True       1.009033e-01             0.093471  \n",
       "...                    ...                ...                  ...  \n",
       "1697                 False       5.476088e-13             0.013555  \n",
       "1698                 False       1.278927e-09             0.022127  \n",
       "1699                  True       7.519784e-01             0.835544  \n",
       "1700                 False       1.036309e-15             0.000001  \n",
       "1701                 False       2.753233e-08             0.027930  \n",
       "\n",
       "[1702 rows x 5 columns]"
      ]
     },
     "execution_count": 9,
     "metadata": {},
     "output_type": "execute_result"
    }
   ],
   "source": [
    "normality_test(image_feats, timepoint ='t2')"
   ]
  },
  {
   "cell_type": "markdown",
   "metadata": {},
   "source": [
    "# Test for Significant Features"
   ]
  },
  {
   "cell_type": "code",
   "execution_count": 10,
   "metadata": {},
   "outputs": [
    {
     "name": "stderr",
     "output_type": "stream",
     "text": [
      "100%|██████████| 1702/1702 [00:17<00:00, 98.52it/s]\n"
     ]
    }
   ],
   "source": [
    "alpha5 = significance_test(image_feats)"
   ]
  },
  {
   "cell_type": "code",
   "execution_count": 11,
   "metadata": {},
   "outputs": [
    {
     "data": {
      "text/html": "<div>\n<style scoped>\n    .dataframe tbody tr th:only-of-type {\n        vertical-align: middle;\n    }\n\n    .dataframe tbody tr th {\n        vertical-align: top;\n    }\n\n    .dataframe thead th {\n        text-align: right;\n    }\n</style>\n<table border=\"1\" class=\"dataframe\">\n  <thead>\n    <tr style=\"text-align: right;\">\n      <th></th>\n      <th>Feature</th>\n      <th>Significance</th>\n      <th>p-unc</th>\n      <th>hedges</th>\n      <th>Contrast</th>\n      <th>...</th>\n      <th>B</th>\n      <th>Paired</th>\n      <th>Parametric</th>\n      <th>U-val</th>\n      <th>Tail</th>\n    </tr>\n  </thead>\n  <tbody>\n    <tr>\n      <th>12</th>\n      <td>CT_original_shape_SurfaceVolumeRatio</td>\n      <td>True</td>\n      <td>0.002744</td>\n      <td>-1.007454</td>\n      <td>Class</td>\n      <td>...</td>\n      <td>Remission</td>\n      <td>False</td>\n      <td>False</td>\n      <td>109.0</td>\n      <td>two-sided</td>\n    </tr>\n    <tr>\n      <th>1269</th>\n      <td>PET_wavelet-HLL_glcm_Imc2</td>\n      <td>True</td>\n      <td>0.029790</td>\n      <td>-0.998480</td>\n      <td>Class</td>\n      <td>...</td>\n      <td>Remission</td>\n      <td>False</td>\n      <td>False</td>\n      <td>158.0</td>\n      <td>two-sided</td>\n    </tr>\n    <tr>\n      <th>1646</th>\n      <td>PET_wavelet-LLL_glcm_MCC</td>\n      <td>True</td>\n      <td>0.031077</td>\n      <td>-0.981215</td>\n      <td>Class</td>\n      <td>...</td>\n      <td>Remission</td>\n      <td>False</td>\n      <td>False</td>\n      <td>159.0</td>\n      <td>two-sided</td>\n    </tr>\n    <tr>\n      <th>863</th>\n      <td>PET_original_shape_SurfaceVolumeRatio</td>\n      <td>True</td>\n      <td>0.003233</td>\n      <td>-0.979647</td>\n      <td>Class</td>\n      <td>...</td>\n      <td>Remission</td>\n      <td>False</td>\n      <td>False</td>\n      <td>112.0</td>\n      <td>two-sided</td>\n    </tr>\n    <tr>\n      <th>463</th>\n      <td>CT_wavelet-HLL_ngtdm_Contrast</td>\n      <td>True</td>\n      <td>0.002457</td>\n      <td>-0.909553</td>\n      <td>Class</td>\n      <td>...</td>\n      <td>Remission</td>\n      <td>False</td>\n      <td>False</td>\n      <td>107.0</td>\n      <td>two-sided</td>\n    </tr>\n    <tr>\n      <th>...</th>\n      <td>...</td>\n      <td>...</td>\n      <td>...</td>\n      <td>...</td>\n      <td>...</td>\n      <td>...</td>\n      <td>...</td>\n      <td>...</td>\n      <td>...</td>\n      <td>...</td>\n      <td>...</td>\n    </tr>\n    <tr>\n      <th>1134</th>\n      <td>PET_wavelet-LHL_gldm_GrayLevelNonUniformity</td>\n      <td>True</td>\n      <td>0.022994</td>\n      <td>1.995668</td>\n      <td>Class</td>\n      <td>...</td>\n      <td>Remission</td>\n      <td>False</td>\n      <td>False</td>\n      <td>424.0</td>\n      <td>two-sided</td>\n    </tr>\n    <tr>\n      <th>1093</th>\n      <td>PET_wavelet-LHL_glrlm_GrayLevelNonUniformity</td>\n      <td>True</td>\n      <td>0.022994</td>\n      <td>2.017001</td>\n      <td>Class</td>\n      <td>...</td>\n      <td>Remission</td>\n      <td>False</td>\n      <td>False</td>\n      <td>424.0</td>\n      <td>two-sided</td>\n    </tr>\n    <tr>\n      <th>1465</th>\n      <td>PET_wavelet-HHL_glrlm_GrayLevelNonUniformity</td>\n      <td>True</td>\n      <td>0.009533</td>\n      <td>2.038394</td>\n      <td>Class</td>\n      <td>...</td>\n      <td>Remission</td>\n      <td>False</td>\n      <td>False</td>\n      <td>443.0</td>\n      <td>two-sided</td>\n    </tr>\n    <tr>\n      <th>1506</th>\n      <td>PET_wavelet-HHL_gldm_GrayLevelNonUniformity</td>\n      <td>True</td>\n      <td>0.011562</td>\n      <td>2.112945</td>\n      <td>Class</td>\n      <td>...</td>\n      <td>Remission</td>\n      <td>False</td>\n      <td>False</td>\n      <td>439.0</td>\n      <td>two-sided</td>\n    </tr>\n    <tr>\n      <th>1486</th>\n      <td>PET_wavelet-HHL_glszm_LargeAreaHighGrayLevelEm...</td>\n      <td>True</td>\n      <td>0.016050</td>\n      <td>2.261616</td>\n      <td>Class</td>\n      <td>...</td>\n      <td>Remission</td>\n      <td>False</td>\n      <td>False</td>\n      <td>432.0</td>\n      <td>two-sided</td>\n    </tr>\n  </tbody>\n</table>\n<p>391 rows × 11 columns</p>\n</div>",
      "text/plain": "                                                Feature Significance  \\\n12                 CT_original_shape_SurfaceVolumeRatio         True   \n1269                          PET_wavelet-HLL_glcm_Imc2         True   \n1646                           PET_wavelet-LLL_glcm_MCC         True   \n863               PET_original_shape_SurfaceVolumeRatio         True   \n463                       CT_wavelet-HLL_ngtdm_Contrast         True   \n...                                                 ...          ...   \n1134        PET_wavelet-LHL_gldm_GrayLevelNonUniformity         True   \n1093       PET_wavelet-LHL_glrlm_GrayLevelNonUniformity         True   \n1465       PET_wavelet-HHL_glrlm_GrayLevelNonUniformity         True   \n1506        PET_wavelet-HHL_gldm_GrayLevelNonUniformity         True   \n1486  PET_wavelet-HHL_glszm_LargeAreaHighGrayLevelEm...         True   \n\n         p-unc    hedges Contrast  ...          B Paired  Parametric  U-val  \\\n12    0.002744 -1.007454    Class  ...  Remission  False       False  109.0   \n1269  0.029790 -0.998480    Class  ...  Remission  False       False  158.0   \n1646  0.031077 -0.981215    Class  ...  Remission  False       False  159.0   \n863   0.003233 -0.979647    Class  ...  Remission  False       False  112.0   \n463   0.002457 -0.909553    Class  ...  Remission  False       False  107.0   \n...        ...       ...      ...  ...        ...    ...         ...    ...   \n1134  0.022994  1.995668    Class  ...  Remission  False       False  424.0   \n1093  0.022994  2.017001    Class  ...  Remission  False       False  424.0   \n1465  0.009533  2.038394    Class  ...  Remission  False       False  443.0   \n1506  0.011562  2.112945    Class  ...  Remission  False       False  439.0   \n1486  0.016050  2.261616    Class  ...  Remission  False       False  432.0   \n\n           Tail  \n12    two-sided  \n1269  two-sided  \n1646  two-sided  \n863   two-sided  \n463   two-sided  \n...         ...  \n1134  two-sided  \n1093  two-sided  \n1465  two-sided  \n1506  two-sided  \n1486  two-sided  \n\n[391 rows x 11 columns]"
     },
     "metadata": {},
     "output_type": "display_data"
    }
   ],
   "source": [
    "with pd.option_context('display.max_rows', 100, 'display.max_columns', 10):\n",
    "    display(alpha5.loc[alpha5['Significance']=='True'])"
   ]
  },
  {
   "cell_type": "code",
   "execution_count": 12,
   "metadata": {},
   "outputs": [
    {
     "name": "stderr",
     "output_type": "stream",
     "text": [
      "100%|██████████| 1702/1702 [00:17<00:00, 99.21it/s]\n"
     ]
    }
   ],
   "source": [
    "alpha1 =  significance_test(image_feats, alpha=0.01)"
   ]
  },
  {
   "cell_type": "code",
   "execution_count": 13,
   "metadata": {},
   "outputs": [
    {
     "data": {
      "text/html": "<div>\n<style scoped>\n    .dataframe tbody tr th:only-of-type {\n        vertical-align: middle;\n    }\n\n    .dataframe tbody tr th {\n        vertical-align: top;\n    }\n\n    .dataframe thead th {\n        text-align: right;\n    }\n</style>\n<table border=\"1\" class=\"dataframe\">\n  <thead>\n    <tr style=\"text-align: right;\">\n      <th></th>\n      <th>Feature</th>\n      <th>Significance</th>\n      <th>p-unc</th>\n      <th>hedges</th>\n      <th>Contrast</th>\n      <th>...</th>\n      <th>B</th>\n      <th>Paired</th>\n      <th>Parametric</th>\n      <th>U-val</th>\n      <th>Tail</th>\n    </tr>\n  </thead>\n  <tbody>\n    <tr>\n      <th>12</th>\n      <td>CT_original_shape_SurfaceVolumeRatio</td>\n      <td>True</td>\n      <td>0.002744</td>\n      <td>-1.007454</td>\n      <td>Class</td>\n      <td>...</td>\n      <td>Remission</td>\n      <td>False</td>\n      <td>False</td>\n      <td>109.0</td>\n      <td>two-sided</td>\n    </tr>\n    <tr>\n      <th>863</th>\n      <td>PET_original_shape_SurfaceVolumeRatio</td>\n      <td>True</td>\n      <td>0.003233</td>\n      <td>-0.979647</td>\n      <td>Class</td>\n      <td>...</td>\n      <td>Remission</td>\n      <td>False</td>\n      <td>False</td>\n      <td>112.0</td>\n      <td>two-sided</td>\n    </tr>\n    <tr>\n      <th>463</th>\n      <td>CT_wavelet-HLL_ngtdm_Contrast</td>\n      <td>True</td>\n      <td>0.002457</td>\n      <td>-0.909553</td>\n      <td>Class</td>\n      <td>...</td>\n      <td>Remission</td>\n      <td>False</td>\n      <td>False</td>\n      <td>107.0</td>\n      <td>two-sided</td>\n    </tr>\n    <tr>\n      <th>757</th>\n      <td>CT_wavelet-HHH_gldm_SmallDependenceLowGrayLeve...</td>\n      <td>True</td>\n      <td>0.003233</td>\n      <td>-0.830975</td>\n      <td>Class</td>\n      <td>...</td>\n      <td>Remission</td>\n      <td>False</td>\n      <td>False</td>\n      <td>112.0</td>\n      <td>two-sided</td>\n    </tr>\n    <tr>\n      <th>1033</th>\n      <td>PET_wavelet-LLH_ngtdm_Coarseness</td>\n      <td>True</td>\n      <td>0.004455</td>\n      <td>-0.819385</td>\n      <td>Class</td>\n      <td>...</td>\n      <td>Remission</td>\n      <td>False</td>\n      <td>False</td>\n      <td>118.0</td>\n      <td>two-sided</td>\n    </tr>\n    <tr>\n      <th>...</th>\n      <td>...</td>\n      <td>...</td>\n      <td>...</td>\n      <td>...</td>\n      <td>...</td>\n      <td>...</td>\n      <td>...</td>\n      <td>...</td>\n      <td>...</td>\n      <td>...</td>\n      <td>...</td>\n    </tr>\n    <tr>\n      <th>77</th>\n      <td>CT_original_glszm_LargeAreaHighGrayLevelEmphasis</td>\n      <td>True</td>\n      <td>0.001562</td>\n      <td>1.720679</td>\n      <td>Class</td>\n      <td>...</td>\n      <td>Remission</td>\n      <td>False</td>\n      <td>False</td>\n      <td>477.0</td>\n      <td>two-sided</td>\n    </tr>\n    <tr>\n      <th>821</th>\n      <td>CT_wavelet-LLL_glszm_LargeAreaHighGrayLevelEmp...</td>\n      <td>True</td>\n      <td>0.001313</td>\n      <td>1.745490</td>\n      <td>Class</td>\n      <td>...</td>\n      <td>Remission</td>\n      <td>False</td>\n      <td>False</td>\n      <td>480.0</td>\n      <td>two-sided</td>\n    </tr>\n    <tr>\n      <th>800</th>\n      <td>CT_wavelet-LLL_glrlm_GrayLevelNonUniformity</td>\n      <td>True</td>\n      <td>0.003601</td>\n      <td>1.851233</td>\n      <td>Class</td>\n      <td>...</td>\n      <td>Remission</td>\n      <td>False</td>\n      <td>False</td>\n      <td>462.0</td>\n      <td>two-sided</td>\n    </tr>\n    <tr>\n      <th>56</th>\n      <td>CT_original_glrlm_GrayLevelNonUniformity</td>\n      <td>True</td>\n      <td>0.003412</td>\n      <td>1.892895</td>\n      <td>Class</td>\n      <td>...</td>\n      <td>Remission</td>\n      <td>False</td>\n      <td>False</td>\n      <td>463.0</td>\n      <td>two-sided</td>\n    </tr>\n    <tr>\n      <th>1465</th>\n      <td>PET_wavelet-HHL_glrlm_GrayLevelNonUniformity</td>\n      <td>True</td>\n      <td>0.009533</td>\n      <td>2.038394</td>\n      <td>Class</td>\n      <td>...</td>\n      <td>Remission</td>\n      <td>False</td>\n      <td>False</td>\n      <td>443.0</td>\n      <td>two-sided</td>\n    </tr>\n  </tbody>\n</table>\n<p>102 rows × 11 columns</p>\n</div>",
      "text/plain": "                                                Feature Significance  \\\n12                 CT_original_shape_SurfaceVolumeRatio         True   \n863               PET_original_shape_SurfaceVolumeRatio         True   \n463                       CT_wavelet-HLL_ngtdm_Contrast         True   \n757   CT_wavelet-HHH_gldm_SmallDependenceLowGrayLeve...         True   \n1033                   PET_wavelet-LLH_ngtdm_Coarseness         True   \n...                                                 ...          ...   \n77     CT_original_glszm_LargeAreaHighGrayLevelEmphasis         True   \n821   CT_wavelet-LLL_glszm_LargeAreaHighGrayLevelEmp...         True   \n800         CT_wavelet-LLL_glrlm_GrayLevelNonUniformity         True   \n56             CT_original_glrlm_GrayLevelNonUniformity         True   \n1465       PET_wavelet-HHL_glrlm_GrayLevelNonUniformity         True   \n\n         p-unc    hedges Contrast  ...          B Paired  Parametric  U-val  \\\n12    0.002744 -1.007454    Class  ...  Remission  False       False  109.0   \n863   0.003233 -0.979647    Class  ...  Remission  False       False  112.0   \n463   0.002457 -0.909553    Class  ...  Remission  False       False  107.0   \n757   0.003233 -0.830975    Class  ...  Remission  False       False  112.0   \n1033  0.004455 -0.819385    Class  ...  Remission  False       False  118.0   \n...        ...       ...      ...  ...        ...    ...         ...    ...   \n77    0.001562  1.720679    Class  ...  Remission  False       False  477.0   \n821   0.001313  1.745490    Class  ...  Remission  False       False  480.0   \n800   0.003601  1.851233    Class  ...  Remission  False       False  462.0   \n56    0.003412  1.892895    Class  ...  Remission  False       False  463.0   \n1465  0.009533  2.038394    Class  ...  Remission  False       False  443.0   \n\n           Tail  \n12    two-sided  \n863   two-sided  \n463   two-sided  \n757   two-sided  \n1033  two-sided  \n...         ...  \n77    two-sided  \n821   two-sided  \n800   two-sided  \n56    two-sided  \n1465  two-sided  \n\n[102 rows x 11 columns]"
     },
     "metadata": {},
     "output_type": "display_data"
    }
   ],
   "source": [
    "with pd.option_context('display.max_rows', 100, 'display.max_columns', 10):\n",
    "    display(alpha1.loc[alpha1['Significance']=='True'])\n"
   ]
  }
 ],
 "metadata": {
  "kernelspec": {
   "display_name": "Python 3.8.6 64-bit",
   "name": "python386jvsc74a57bd0615a7dda892719774096587b3a7293a99c271efcca0a9ce908482d067af6d18b"
  },
  "language_info": {
   "name": "python",
   "version": ""
  },
  "metadata": {
   "interpreter": {
    "hash": "615a7dda892719774096587b3a7293a99c271efcca0a9ce908482d067af6d18b"
   }
  },
  "orig_nbformat": 2
 },
 "nbformat": 4,
 "nbformat_minor": 2
}