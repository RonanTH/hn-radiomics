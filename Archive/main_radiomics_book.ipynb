{
 "metadata": {
  "language_info": {
   "codemirror_mode": {
    "name": "ipython",
    "version": 3
   },
   "file_extension": ".py",
   "mimetype": "text/x-python",
   "name": "python",
   "nbconvert_exporter": "python",
   "pygments_lexer": "ipython3",
   "version": "3.8.6-final"
  },
  "orig_nbformat": 2,
  "kernelspec": {
   "name": "python3",
   "display_name": "Python 3.8.6 64-bit",
   "metadata": {
    "interpreter": {
     "hash": "615a7dda892719774096587b3a7293a99c271efcca0a9ce908482d067af6d18b"
    }
   }
  }
 },
 "nbformat": 4,
 "nbformat_minor": 2,
 "cells": [
  {
   "cell_type": "code",
   "execution_count": 16,
   "metadata": {},
   "outputs": [],
   "source": [
    "%matplotlib qt\n",
    "\n",
    "import numpy as np\n",
    "import pandas as pd\n",
    "import csv\n",
    "\n",
    "\n",
    "import SimpleITK as sitk\n",
    "from radiomics import featureextractor\n",
    "import multiprocessing\n",
    "from multiprocessing import Pool\n",
    "from itertools import repeat\n",
    "from tqdm import tqdm"
   ]
  },
  {
   "cell_type": "code",
   "execution_count": 2,
   "metadata": {},
   "outputs": [],
   "source": [
    "def flatten_mask_labels(mask_path):\n",
    "    ma = sitk.ReadImage(mask_path)\n",
    "    ma_arr = sitk.GetArrayFromImage(ma)\n",
    "    for l in range(1,ma_arr.max()+1):\n",
    "        ma_arr[ma_arr == l] = 1\n",
    "\n",
    "    ma_merged = sitk.GetImageFromArray(ma_arr)\n",
    "    ma_merged.CopyInformation(ma)\n",
    "    \n",
    "    return ma_merged\n"
   ]
  },
  {
   "cell_type": "code",
   "execution_count": 3,
   "metadata": {},
   "outputs": [],
   "source": [
    "wd = os.getcwd()\n",
    "root = wd[:-8]\n",
    "\n",
    "main_dir = root+'0.0 Main'\n",
    "input_dir = root+'0.1 inputs'\n",
    "output_dir = root+'0.2 outputs'\n",
    "params_dir = root+'0.3 parameters'"
   ]
  },
  {
   "cell_type": "code",
   "execution_count": 4,
   "metadata": {},
   "outputs": [
    {
     "output_type": "stream",
     "name": "stdout",
     "text": [
      "Parsed 74 image-mask pairs\n"
     ]
    }
   ],
   "source": [
    "path_dicts = []\n",
    "with open(input_dir+'\\CT_paths.csv', 'r') as file:\n",
    "    csv_file = csv.DictReader(file)\n",
    "    for row in csv_file:\n",
    "        path_dicts.append(row)\n",
    "    n_instances = len(path_dicts)\n",
    "    print(f'Parsed {n_instances} image-mask pairs')"
   ]
  },
  {
   "cell_type": "code",
   "execution_count": 5,
   "metadata": {},
   "outputs": [],
   "source": [
    "parameter_file = params_dir+'\\\\Params.yaml'\n",
    "extractor = featureextractor.RadiomicsFeatureExtractor(parameter_file)"
   ]
  },
  {
   "cell_type": "code",
   "execution_count": 6,
   "metadata": {},
   "outputs": [],
   "source": [
    "def extract_feats(image_mask_pair,params):\n",
    "    image_path = image_mask_pair['Image']\n",
    "    mask_path = image_mask_pair['Mask']\n",
    "    \n",
    "    flat_mask = flatten_mask_labels(mask_path)  # Feature extraction will only occur for masks with label==1, this function takes masks with multiple labels and sets them to 1\n",
    "    extractor = featureextractor.RadiomicsFeatureExtractor(params)\n",
    "    features = extractor.execute(image_path, flat_mask, label=1)\n",
    "    \n",
    "    return features\n"
   ]
  },
  {
   "cell_type": "code",
   "execution_count": 9,
   "metadata": {},
   "outputs": [
    {
     "output_type": "stream",
     "name": "stderr",
     "text": [
      "100%|██████████| 74/74 [09:16<00:00,  7.53s/it]\n"
     ]
    }
   ],
   "source": [
    "result =[]\n",
    "for i in tqdm(range(n_instances)):\n",
    "    result.append(extract_feats(path_dicts[i],params=parameter_file))"
   ]
  },
  {
   "cell_type": "code",
   "execution_count": 8,
   "metadata": {},
   "outputs": [],
   "source": [
    "# %%time\n",
    "# workers = multiprocessing.cpu_count()\n",
    "# with Pool(2) as p:\n",
    "#     M = p.map(extract_feats, path_dicts[:2])"
   ]
  },
  {
   "cell_type": "code",
   "execution_count": 26,
   "metadata": {},
   "outputs": [],
   "source": [
    "df_paths = pd.DataFrame(path_dicts)\n",
    "df_result = pd.DataFrame(result)"
   ]
  },
  {
   "cell_type": "code",
   "execution_count": 27,
   "metadata": {},
   "outputs": [
    {
     "output_type": "execute_result",
     "data": {
      "text/plain": [
       "                                                Image  \\\n",
       "0   X:\\0.0 DATASETS\\QIN DATASET\\QIN-HEADNECK\\0.5 A...   \n",
       "1   X:\\0.0 DATASETS\\QIN DATASET\\QIN-HEADNECK\\0.5 A...   \n",
       "2   X:\\0.0 DATASETS\\QIN DATASET\\QIN-HEADNECK\\0.5 A...   \n",
       "3   X:\\0.0 DATASETS\\QIN DATASET\\QIN-HEADNECK\\0.5 A...   \n",
       "4   X:\\0.0 DATASETS\\QIN DATASET\\QIN-HEADNECK\\0.5 A...   \n",
       "..                                                ...   \n",
       "69  X:\\0.0 DATASETS\\QIN DATASET\\QIN-HEADNECK\\0.5 A...   \n",
       "70  X:\\0.0 DATASETS\\QIN DATASET\\QIN-HEADNECK\\0.5 A...   \n",
       "71  X:\\0.0 DATASETS\\QIN DATASET\\QIN-HEADNECK\\0.5 A...   \n",
       "72  X:\\0.0 DATASETS\\QIN DATASET\\QIN-HEADNECK\\0.5 A...   \n",
       "73  X:\\0.0 DATASETS\\QIN DATASET\\QIN-HEADNECK\\0.5 A...   \n",
       "\n",
       "                                                 Mask Class  \\\n",
       "0   X:\\0.0 DATASETS\\QIN DATASET\\QIN-HEADNECK\\0.5 A...     0   \n",
       "1   X:\\0.0 DATASETS\\QIN DATASET\\QIN-HEADNECK\\0.5 A...     0   \n",
       "2   X:\\0.0 DATASETS\\QIN DATASET\\QIN-HEADNECK\\0.5 A...     0   \n",
       "3   X:\\0.0 DATASETS\\QIN DATASET\\QIN-HEADNECK\\0.5 A...     0   \n",
       "4   X:\\0.0 DATASETS\\QIN DATASET\\QIN-HEADNECK\\0.5 A...     1   \n",
       "..                                                ...   ...   \n",
       "69  X:\\0.0 DATASETS\\QIN DATASET\\QIN-HEADNECK\\0.5 A...     0   \n",
       "70  X:\\0.0 DATASETS\\QIN DATASET\\QIN-HEADNECK\\0.5 A...     0   \n",
       "71  X:\\0.0 DATASETS\\QIN DATASET\\QIN-HEADNECK\\0.5 A...     0   \n",
       "72  X:\\0.0 DATASETS\\QIN DATASET\\QIN-HEADNECK\\0.5 A...     0   \n",
       "73  X:\\0.0 DATASETS\\QIN DATASET\\QIN-HEADNECK\\0.5 A...     0   \n",
       "\n",
       "   diagnostics_Versions_PyRadiomics diagnostics_Versions_Numpy  \\\n",
       "0                            v3.0.1                     1.19.5   \n",
       "1                            v3.0.1                     1.19.5   \n",
       "2                            v3.0.1                     1.19.5   \n",
       "3                            v3.0.1                     1.19.5   \n",
       "4                            v3.0.1                     1.19.5   \n",
       "..                              ...                        ...   \n",
       "69                           v3.0.1                     1.19.5   \n",
       "70                           v3.0.1                     1.19.5   \n",
       "71                           v3.0.1                     1.19.5   \n",
       "72                           v3.0.1                     1.19.5   \n",
       "73                           v3.0.1                     1.19.5   \n",
       "\n",
       "   diagnostics_Versions_SimpleITK diagnostics_Versions_PyWavelet  \\\n",
       "0                           2.0.1                          1.1.1   \n",
       "1                           2.0.1                          1.1.1   \n",
       "2                           2.0.1                          1.1.1   \n",
       "3                           2.0.1                          1.1.1   \n",
       "4                           2.0.1                          1.1.1   \n",
       "..                            ...                            ...   \n",
       "69                          2.0.1                          1.1.1   \n",
       "70                          2.0.1                          1.1.1   \n",
       "71                          2.0.1                          1.1.1   \n",
       "72                          2.0.1                          1.1.1   \n",
       "73                          2.0.1                          1.1.1   \n",
       "\n",
       "   diagnostics_Versions_Python  \\\n",
       "0                        3.8.6   \n",
       "1                        3.8.6   \n",
       "2                        3.8.6   \n",
       "3                        3.8.6   \n",
       "4                        3.8.6   \n",
       "..                         ...   \n",
       "69                       3.8.6   \n",
       "70                       3.8.6   \n",
       "71                       3.8.6   \n",
       "72                       3.8.6   \n",
       "73                       3.8.6   \n",
       "\n",
       "                   diagnostics_Configuration_Settings  \\\n",
       "0   {'minimumROIDimensions': 2, 'minimumROISize': ...   \n",
       "1   {'minimumROIDimensions': 2, 'minimumROISize': ...   \n",
       "2   {'minimumROIDimensions': 2, 'minimumROISize': ...   \n",
       "3   {'minimumROIDimensions': 2, 'minimumROISize': ...   \n",
       "4   {'minimumROIDimensions': 2, 'minimumROISize': ...   \n",
       "..                                                ...   \n",
       "69  {'minimumROIDimensions': 2, 'minimumROISize': ...   \n",
       "70  {'minimumROIDimensions': 2, 'minimumROISize': ...   \n",
       "71  {'minimumROIDimensions': 2, 'minimumROISize': ...   \n",
       "72  {'minimumROIDimensions': 2, 'minimumROISize': ...   \n",
       "73  {'minimumROIDimensions': 2, 'minimumROISize': ...   \n",
       "\n",
       "   diagnostics_Configuration_EnabledImageTypes  ...  \\\n",
       "0                             {'Original': {}}  ...   \n",
       "1                             {'Original': {}}  ...   \n",
       "2                             {'Original': {}}  ...   \n",
       "3                             {'Original': {}}  ...   \n",
       "4                             {'Original': {}}  ...   \n",
       "..                                         ...  ...   \n",
       "69                            {'Original': {}}  ...   \n",
       "70                            {'Original': {}}  ...   \n",
       "71                            {'Original': {}}  ...   \n",
       "72                            {'Original': {}}  ...   \n",
       "73                            {'Original': {}}  ...   \n",
       "\n",
       "   original_gldm_GrayLevelNonUniformity original_gldm_GrayLevelVariance  \\\n",
       "0                    1247.3180764774045              29.058511169980967   \n",
       "1                    3848.2292576419213               50.74631194430316   \n",
       "2                     1435.314659685864              0.6039068967407691   \n",
       "3                     2091.987142397943               26.42307293666949   \n",
       "4                     529.3063636363636               21.44118161157025   \n",
       "..                                  ...                             ...   \n",
       "69                    6173.188913982329              48.163956804495434   \n",
       "70                   1818.5507370831544               56.81265823898475   \n",
       "71                   3517.5667391304346              1.6914780718336484   \n",
       "72                    669.7241268824095              106.77791307574111   \n",
       "73                    2330.307540585647               38.70553124918208   \n",
       "\n",
       "   original_gldm_HighGrayLevelEmphasis original_gldm_LargeDependenceEmphasis  \\\n",
       "0                   1791.8744689069138                     65.28988026264967   \n",
       "1                    1643.833437305053                    105.25483468496569   \n",
       "2                    19.13219895287958                    140.94293193717277   \n",
       "3                   1877.6421568627452                     96.29974284795885   \n",
       "4                   1550.9977272727272                     93.72181818181818   \n",
       "..                                 ...                                   ...   \n",
       "69                  1781.8029240461192                     140.6980862950196   \n",
       "70                  1792.2499642192643                     97.18677544010305   \n",
       "71                   783.4773913043479                    179.46347826086958   \n",
       "72                  1649.1707785966037                    120.75969240628004   \n",
       "73                  1763.1473979669247                    101.23456228189956   \n",
       "\n",
       "    original_gldm_LargeDependenceHighGrayLevelEmphasis  \\\n",
       "0                                  116873.93781382774    \n",
       "1                                  185223.83977957995    \n",
       "2                                  2739.3641361256546    \n",
       "3                                   173625.0013661202    \n",
       "4                                  151369.97318181818    \n",
       "..                                                ...    \n",
       "69                                 258288.15539442925    \n",
       "70                                 179433.55524545585    \n",
       "71                                 142216.98847826087    \n",
       "72                                  221267.5584748478    \n",
       "73                                 186608.56539220148    \n",
       "\n",
       "    original_gldm_LargeDependenceLowGrayLevelEmphasis  \\\n",
       "0                                 0.05128055864376676   \n",
       "1                                 0.12650342007809565   \n",
       "2                                   7.885583964039368   \n",
       "3                                 0.08360825174410205   \n",
       "4                                 0.10756450625155124   \n",
       "..                                                ...   \n",
       "69                                  1.738918837456069   \n",
       "70                                 0.1172763906785908   \n",
       "71                                 0.2270082658331856   \n",
       "72                                 0.7558228082315879   \n",
       "73                                 0.2969661445314535   \n",
       "\n",
       "    original_gldm_LowGrayLevelEmphasis original_gldm_SmallDependenceEmphasis  \\\n",
       "0                0.0014728980388839933                   0.11973553620222611   \n",
       "1                 0.002687990672060076                   0.12416956683156527   \n",
       "2                  0.06269395397775167                   0.03079315866109682   \n",
       "3                   0.0017883644279432                   0.11621774549518847   \n",
       "4                0.0033672388981178195                   0.11476433406346209   \n",
       "..                                 ...                                   ...   \n",
       "69                0.011003244493782602                   0.08074797741180433   \n",
       "70                 0.00263295036950073                   0.14584015928708327   \n",
       "71               0.0014432830947360299                  0.034450737706023686   \n",
       "72                 0.01562840293336263                   0.13411910159894808   \n",
       "73                0.004693289258448062                    0.0870868115783247   \n",
       "\n",
       "   original_gldm_SmallDependenceHighGrayLevelEmphasis  \\\n",
       "0                                  197.00956728852228   \n",
       "1                                   151.4897184606033   \n",
       "2                                  0.5839748682367925   \n",
       "3                                  235.90467092951812   \n",
       "4                                  141.06250303149494   \n",
       "..                                                ...   \n",
       "69                                  111.0416454399007   \n",
       "70                                  243.4437922263317   \n",
       "71                                  24.42163661937633   \n",
       "72                                   144.184426147878   \n",
       "73                                 124.07235741335745   \n",
       "\n",
       "   original_gldm_SmallDependenceLowGrayLevelEmphasis  \n",
       "0                              0.0003111216965486707  \n",
       "1                              0.0005755680993951987  \n",
       "2                               0.002791032205941674  \n",
       "3                              0.0002590427799270595  \n",
       "4                              0.0005385302476285819  \n",
       "..                                               ...  \n",
       "69                             0.0007152844571251441  \n",
       "70                             0.0005463974411961242  \n",
       "71                            0.00020894281241149614  \n",
       "72                             0.0013902003818195828  \n",
       "73                              0.000474452043846348  \n",
       "\n",
       "[74 rows x 125 columns]"
      ],
      "text/html": "<div>\n<style scoped>\n    .dataframe tbody tr th:only-of-type {\n        vertical-align: middle;\n    }\n\n    .dataframe tbody tr th {\n        vertical-align: top;\n    }\n\n    .dataframe thead th {\n        text-align: right;\n    }\n</style>\n<table border=\"1\" class=\"dataframe\">\n  <thead>\n    <tr style=\"text-align: right;\">\n      <th></th>\n      <th>Image</th>\n      <th>Mask</th>\n      <th>Class</th>\n      <th>diagnostics_Versions_PyRadiomics</th>\n      <th>diagnostics_Versions_Numpy</th>\n      <th>diagnostics_Versions_SimpleITK</th>\n      <th>diagnostics_Versions_PyWavelet</th>\n      <th>diagnostics_Versions_Python</th>\n      <th>diagnostics_Configuration_Settings</th>\n      <th>diagnostics_Configuration_EnabledImageTypes</th>\n      <th>...</th>\n      <th>original_gldm_GrayLevelNonUniformity</th>\n      <th>original_gldm_GrayLevelVariance</th>\n      <th>original_gldm_HighGrayLevelEmphasis</th>\n      <th>original_gldm_LargeDependenceEmphasis</th>\n      <th>original_gldm_LargeDependenceHighGrayLevelEmphasis</th>\n      <th>original_gldm_LargeDependenceLowGrayLevelEmphasis</th>\n      <th>original_gldm_LowGrayLevelEmphasis</th>\n      <th>original_gldm_SmallDependenceEmphasis</th>\n      <th>original_gldm_SmallDependenceHighGrayLevelEmphasis</th>\n      <th>original_gldm_SmallDependenceLowGrayLevelEmphasis</th>\n    </tr>\n  </thead>\n  <tbody>\n    <tr>\n      <th>0</th>\n      <td>X:\\0.0 DATASETS\\QIN DATASET\\QIN-HEADNECK\\0.5 A...</td>\n      <td>X:\\0.0 DATASETS\\QIN DATASET\\QIN-HEADNECK\\0.5 A...</td>\n      <td>0</td>\n      <td>v3.0.1</td>\n      <td>1.19.5</td>\n      <td>2.0.1</td>\n      <td>1.1.1</td>\n      <td>3.8.6</td>\n      <td>{'minimumROIDimensions': 2, 'minimumROISize': ...</td>\n      <td>{'Original': {}}</td>\n      <td>...</td>\n      <td>1247.3180764774045</td>\n      <td>29.058511169980967</td>\n      <td>1791.8744689069138</td>\n      <td>65.28988026264967</td>\n      <td>116873.93781382774</td>\n      <td>0.05128055864376676</td>\n      <td>0.0014728980388839933</td>\n      <td>0.11973553620222611</td>\n      <td>197.00956728852228</td>\n      <td>0.0003111216965486707</td>\n    </tr>\n    <tr>\n      <th>1</th>\n      <td>X:\\0.0 DATASETS\\QIN DATASET\\QIN-HEADNECK\\0.5 A...</td>\n      <td>X:\\0.0 DATASETS\\QIN DATASET\\QIN-HEADNECK\\0.5 A...</td>\n      <td>0</td>\n      <td>v3.0.1</td>\n      <td>1.19.5</td>\n      <td>2.0.1</td>\n      <td>1.1.1</td>\n      <td>3.8.6</td>\n      <td>{'minimumROIDimensions': 2, 'minimumROISize': ...</td>\n      <td>{'Original': {}}</td>\n      <td>...</td>\n      <td>3848.2292576419213</td>\n      <td>50.74631194430316</td>\n      <td>1643.833437305053</td>\n      <td>105.25483468496569</td>\n      <td>185223.83977957995</td>\n      <td>0.12650342007809565</td>\n      <td>0.002687990672060076</td>\n      <td>0.12416956683156527</td>\n      <td>151.4897184606033</td>\n      <td>0.0005755680993951987</td>\n    </tr>\n    <tr>\n      <th>2</th>\n      <td>X:\\0.0 DATASETS\\QIN DATASET\\QIN-HEADNECK\\0.5 A...</td>\n      <td>X:\\0.0 DATASETS\\QIN DATASET\\QIN-HEADNECK\\0.5 A...</td>\n      <td>0</td>\n      <td>v3.0.1</td>\n      <td>1.19.5</td>\n      <td>2.0.1</td>\n      <td>1.1.1</td>\n      <td>3.8.6</td>\n      <td>{'minimumROIDimensions': 2, 'minimumROISize': ...</td>\n      <td>{'Original': {}}</td>\n      <td>...</td>\n      <td>1435.314659685864</td>\n      <td>0.6039068967407691</td>\n      <td>19.13219895287958</td>\n      <td>140.94293193717277</td>\n      <td>2739.3641361256546</td>\n      <td>7.885583964039368</td>\n      <td>0.06269395397775167</td>\n      <td>0.03079315866109682</td>\n      <td>0.5839748682367925</td>\n      <td>0.002791032205941674</td>\n    </tr>\n    <tr>\n      <th>3</th>\n      <td>X:\\0.0 DATASETS\\QIN DATASET\\QIN-HEADNECK\\0.5 A...</td>\n      <td>X:\\0.0 DATASETS\\QIN DATASET\\QIN-HEADNECK\\0.5 A...</td>\n      <td>0</td>\n      <td>v3.0.1</td>\n      <td>1.19.5</td>\n      <td>2.0.1</td>\n      <td>1.1.1</td>\n      <td>3.8.6</td>\n      <td>{'minimumROIDimensions': 2, 'minimumROISize': ...</td>\n      <td>{'Original': {}}</td>\n      <td>...</td>\n      <td>2091.987142397943</td>\n      <td>26.42307293666949</td>\n      <td>1877.6421568627452</td>\n      <td>96.29974284795885</td>\n      <td>173625.0013661202</td>\n      <td>0.08360825174410205</td>\n      <td>0.0017883644279432</td>\n      <td>0.11621774549518847</td>\n      <td>235.90467092951812</td>\n      <td>0.0002590427799270595</td>\n    </tr>\n    <tr>\n      <th>4</th>\n      <td>X:\\0.0 DATASETS\\QIN DATASET\\QIN-HEADNECK\\0.5 A...</td>\n      <td>X:\\0.0 DATASETS\\QIN DATASET\\QIN-HEADNECK\\0.5 A...</td>\n      <td>1</td>\n      <td>v3.0.1</td>\n      <td>1.19.5</td>\n      <td>2.0.1</td>\n      <td>1.1.1</td>\n      <td>3.8.6</td>\n      <td>{'minimumROIDimensions': 2, 'minimumROISize': ...</td>\n      <td>{'Original': {}}</td>\n      <td>...</td>\n      <td>529.3063636363636</td>\n      <td>21.44118161157025</td>\n      <td>1550.9977272727272</td>\n      <td>93.72181818181818</td>\n      <td>151369.97318181818</td>\n      <td>0.10756450625155124</td>\n      <td>0.0033672388981178195</td>\n      <td>0.11476433406346209</td>\n      <td>141.06250303149494</td>\n      <td>0.0005385302476285819</td>\n    </tr>\n    <tr>\n      <th>...</th>\n      <td>...</td>\n      <td>...</td>\n      <td>...</td>\n      <td>...</td>\n      <td>...</td>\n      <td>...</td>\n      <td>...</td>\n      <td>...</td>\n      <td>...</td>\n      <td>...</td>\n      <td>...</td>\n      <td>...</td>\n      <td>...</td>\n      <td>...</td>\n      <td>...</td>\n      <td>...</td>\n      <td>...</td>\n      <td>...</td>\n      <td>...</td>\n      <td>...</td>\n      <td>...</td>\n    </tr>\n    <tr>\n      <th>69</th>\n      <td>X:\\0.0 DATASETS\\QIN DATASET\\QIN-HEADNECK\\0.5 A...</td>\n      <td>X:\\0.0 DATASETS\\QIN DATASET\\QIN-HEADNECK\\0.5 A...</td>\n      <td>0</td>\n      <td>v3.0.1</td>\n      <td>1.19.5</td>\n      <td>2.0.1</td>\n      <td>1.1.1</td>\n      <td>3.8.6</td>\n      <td>{'minimumROIDimensions': 2, 'minimumROISize': ...</td>\n      <td>{'Original': {}}</td>\n      <td>...</td>\n      <td>6173.188913982329</td>\n      <td>48.163956804495434</td>\n      <td>1781.8029240461192</td>\n      <td>140.6980862950196</td>\n      <td>258288.15539442925</td>\n      <td>1.738918837456069</td>\n      <td>0.011003244493782602</td>\n      <td>0.08074797741180433</td>\n      <td>111.0416454399007</td>\n      <td>0.0007152844571251441</td>\n    </tr>\n    <tr>\n      <th>70</th>\n      <td>X:\\0.0 DATASETS\\QIN DATASET\\QIN-HEADNECK\\0.5 A...</td>\n      <td>X:\\0.0 DATASETS\\QIN DATASET\\QIN-HEADNECK\\0.5 A...</td>\n      <td>0</td>\n      <td>v3.0.1</td>\n      <td>1.19.5</td>\n      <td>2.0.1</td>\n      <td>1.1.1</td>\n      <td>3.8.6</td>\n      <td>{'minimumROIDimensions': 2, 'minimumROISize': ...</td>\n      <td>{'Original': {}}</td>\n      <td>...</td>\n      <td>1818.5507370831544</td>\n      <td>56.81265823898475</td>\n      <td>1792.2499642192643</td>\n      <td>97.18677544010305</td>\n      <td>179433.55524545585</td>\n      <td>0.1172763906785908</td>\n      <td>0.00263295036950073</td>\n      <td>0.14584015928708327</td>\n      <td>243.4437922263317</td>\n      <td>0.0005463974411961242</td>\n    </tr>\n    <tr>\n      <th>71</th>\n      <td>X:\\0.0 DATASETS\\QIN DATASET\\QIN-HEADNECK\\0.5 A...</td>\n      <td>X:\\0.0 DATASETS\\QIN DATASET\\QIN-HEADNECK\\0.5 A...</td>\n      <td>0</td>\n      <td>v3.0.1</td>\n      <td>1.19.5</td>\n      <td>2.0.1</td>\n      <td>1.1.1</td>\n      <td>3.8.6</td>\n      <td>{'minimumROIDimensions': 2, 'minimumROISize': ...</td>\n      <td>{'Original': {}}</td>\n      <td>...</td>\n      <td>3517.5667391304346</td>\n      <td>1.6914780718336484</td>\n      <td>783.4773913043479</td>\n      <td>179.46347826086958</td>\n      <td>142216.98847826087</td>\n      <td>0.2270082658331856</td>\n      <td>0.0014432830947360299</td>\n      <td>0.034450737706023686</td>\n      <td>24.42163661937633</td>\n      <td>0.00020894281241149614</td>\n    </tr>\n    <tr>\n      <th>72</th>\n      <td>X:\\0.0 DATASETS\\QIN DATASET\\QIN-HEADNECK\\0.5 A...</td>\n      <td>X:\\0.0 DATASETS\\QIN DATASET\\QIN-HEADNECK\\0.5 A...</td>\n      <td>0</td>\n      <td>v3.0.1</td>\n      <td>1.19.5</td>\n      <td>2.0.1</td>\n      <td>1.1.1</td>\n      <td>3.8.6</td>\n      <td>{'minimumROIDimensions': 2, 'minimumROISize': ...</td>\n      <td>{'Original': {}}</td>\n      <td>...</td>\n      <td>669.7241268824095</td>\n      <td>106.77791307574111</td>\n      <td>1649.1707785966037</td>\n      <td>120.75969240628004</td>\n      <td>221267.5584748478</td>\n      <td>0.7558228082315879</td>\n      <td>0.01562840293336263</td>\n      <td>0.13411910159894808</td>\n      <td>144.184426147878</td>\n      <td>0.0013902003818195828</td>\n    </tr>\n    <tr>\n      <th>73</th>\n      <td>X:\\0.0 DATASETS\\QIN DATASET\\QIN-HEADNECK\\0.5 A...</td>\n      <td>X:\\0.0 DATASETS\\QIN DATASET\\QIN-HEADNECK\\0.5 A...</td>\n      <td>0</td>\n      <td>v3.0.1</td>\n      <td>1.19.5</td>\n      <td>2.0.1</td>\n      <td>1.1.1</td>\n      <td>3.8.6</td>\n      <td>{'minimumROIDimensions': 2, 'minimumROISize': ...</td>\n      <td>{'Original': {}}</td>\n      <td>...</td>\n      <td>2330.307540585647</td>\n      <td>38.70553124918208</td>\n      <td>1763.1473979669247</td>\n      <td>101.23456228189956</td>\n      <td>186608.56539220148</td>\n      <td>0.2969661445314535</td>\n      <td>0.004693289258448062</td>\n      <td>0.0870868115783247</td>\n      <td>124.07235741335745</td>\n      <td>0.000474452043846348</td>\n    </tr>\n  </tbody>\n</table>\n<p>74 rows × 125 columns</p>\n</div>"
     },
     "metadata": {},
     "execution_count": 27
    }
   ],
   "source": [
    "merged = pd.concat([df_paths, df_result], axis=1)\n",
    "merged"
   ]
  }
 ]
}