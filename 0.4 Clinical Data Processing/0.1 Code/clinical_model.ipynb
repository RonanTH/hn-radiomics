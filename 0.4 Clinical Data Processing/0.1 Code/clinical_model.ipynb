{
 "metadata": {
  "language_info": {
   "codemirror_mode": {
    "name": "ipython",
    "version": 3
   },
   "file_extension": ".py",
   "mimetype": "text/x-python",
   "name": "python",
   "nbconvert_exporter": "python",
   "pygments_lexer": "ipython3",
   "version": "3.8.6-final"
  },
  "orig_nbformat": 2,
  "kernelspec": {
   "name": "python386jvsc74a57bd0615a7dda892719774096587b3a7293a99c271efcca0a9ce908482d067af6d18b",
   "display_name": "Python 3.8.6 64-bit"
  },
  "metadata": {
   "interpreter": {
    "hash": "615a7dda892719774096587b3a7293a99c271efcca0a9ce908482d067af6d18b"
   }
  }
 },
 "nbformat": 4,
 "nbformat_minor": 2,
 "cells": [
  {
   "cell_type": "code",
   "execution_count": 1,
   "metadata": {},
   "outputs": [],
   "source": [
    "# General modules & loading data\n",
    "import pandas as pd\n",
    "import numpy as np\n",
    "import os"
   ]
  },
  {
   "cell_type": "code",
   "execution_count": 10,
   "metadata": {},
   "outputs": [],
   "source": [
    "cwd = os.getcwd()\n",
    "\n",
    "project_root =  os.path.dirname(os.path.dirname(cwd))\n",
    "feat_output_path = os.path.join(project_root,'0.1 Feature Extraction\\\\0.2 Outputs\\\\0.1 Extracted Features')\n",
    "\n",
    "suv_rawfile = os.path.join(os.path.dirname(cwd),'0.2 Data\\\\SUV ROIs.txt')\n",
    "suv_rawfile\n",
    "\n",
    "with open(suv_rawfile) as f:\n",
    "    lines = f.readlines()\n"
   ]
  },
  {
   "cell_type": "code",
   "execution_count": 20,
   "metadata": {},
   "outputs": [
    {
     "output_type": "execute_result",
     "data": {
      "text/plain": [
       "'Study: Qin-Headneck-01-0003 - Thorax 1Head_Neck_Petct - 11/03/1986, 11:44:11\\n'"
      ]
     },
     "metadata": {},
     "execution_count": 20
    }
   ],
   "source": [
    "lines[8]"
   ]
  }
 ]
}