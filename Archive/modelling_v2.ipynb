{
 "cells": [
  {
   "cell_type": "markdown",
   "metadata": {},
   "source": [
    "# Import Modules & Define Functions"
   ]
  },
  {
   "cell_type": "markdown",
   "metadata": {},
   "source": [
    "## Modules"
   ]
  },
  {
   "cell_type": "code",
   "execution_count": 1,
   "metadata": {},
   "outputs": [],
   "source": [
    "# General modules & loading data\r\n",
    "import pandas as pd\r\n",
    "import numpy as np\r\n",
    "import os\r\n",
    "import matplotlib.pyplot as plt\r\n",
    "from tqdm import tqdm\r\n",
    "from IPython.display import display\r\n",
    "from tqdm import trange\r\n",
    "\r\n",
    "# Splitting & Oversampling Modules\r\n",
    "from sklearn.model_selection import StratifiedKFold\r\n",
    "from imblearn.over_sampling import SMOTE\r\n",
    "from collections import Counter\r\n",
    "\r\n",
    "# Pipeline Building Modules\r\n",
    "from sklearn import preprocessing\r\n",
    "from sklearn.pipeline import Pipeline\r\n",
    "from sklearn.feature_selection import SelectFromModel\r\n",
    "\r\n",
    "# Model Modules\r\n",
    "from sklearn.ensemble import BaggingClassifier, AdaBoostClassifier, GradientBoostingClassifier\r\n",
    "from sklearn.tree import DecisionTreeClassifier\r\n",
    "from sklearn.naive_bayes import GaussianNB\r\n",
    "from sklearn.svm import SVC\r\n",
    "import xgboost as xgb\r\n",
    "\r\n",
    "# Performance Metrics Modules\r\n",
    "from sklearn.metrics import roc_auc_score, average_precision_score, f1_score, matthews_corrcoef, fbeta_score\r\n",
    "from sklearn.metrics import plot_confusion_matrix, plot_roc_curve, plot_precision_recall_curve\r\n"
   ]
  },
  {
   "cell_type": "markdown",
   "metadata": {},
   "source": [
    "## Define Functions"
   ]
  },
  {
   "cell_type": "markdown",
   "metadata": {},
   "source": [
    "### Train/Test Split"
   ]
  },
  {
   "cell_type": "code",
   "execution_count": 2,
   "metadata": {},
   "outputs": [],
   "source": [
    "def train_test_split(image_dataframe,n_splits=2, encode_targets = True, apply_SMOTE = True, random_state = 42):\n",
    "    skf = StratifiedKFold(n_splits)\n",
    "    \n",
    "    ifeatures = image_dataframe.iloc[:, 1:-1]\n",
    "    feature_names = ifeatures.columns\n",
    "    ifeatures = ifeatures.to_numpy()\n",
    "    itargets = image_dataframe.iloc[:, -1].to_numpy()\n",
    "\n",
    "    for train_index, test_index in skf.split(ifeatures, itargets):\n",
    "        train_feats, test_feats = ifeatures[train_index], ifeatures[test_index]\n",
    "        train_targets, test_targets = itargets[train_index], itargets[test_index]\n",
    "    \n",
    "    if encode_targets:\n",
    "        le = preprocessing.LabelEncoder()\n",
    "        le.fit(train_targets)\n",
    "        le.classes_ = le.classes_[::-1]\n",
    "        train_targets_encoded=le.transform(train_targets)\n",
    "        test_targets_encoded=le.transform(test_targets)\n",
    "     \n",
    "    if apply_SMOTE:\n",
    "        oversample = SMOTE(k_neighbors=4, random_state=random_state)\n",
    "        train_feats, train_targets_encoded = oversample.fit_resample(train_feats, train_targets_encoded)\n",
    "        train_targets = le.inverse_transform(train_targets_encoded) \n",
    "\n",
    "    packaged_result = {'feature_names': feature_names,\n",
    "                       'pre_split_feature_values': ifeatures,\n",
    "                       'pre_split_targets': itargets,\n",
    "                       'train_feats': train_feats,\n",
    "                       'test_feats': test_feats,\n",
    "                       'train_targets': train_targets,\n",
    "                       'test_targets': test_targets,\n",
    "                       'train_targets_encoded': train_targets_encoded,\n",
    "                       'test_targets_encoded': test_targets_encoded    \n",
    "                        }\n",
    "   \n",
    "    return  packaged_result"
   ]
  },
  {
   "cell_type": "markdown",
   "metadata": {},
   "source": [
    "### Single Timepoint Classifier Pipeline"
   ]
  },
  {
   "cell_type": "code",
   "execution_count": 3,
   "metadata": {},
   "outputs": [],
   "source": [
    "def apply_single_clf(clf, split_data, timepoint, apply_feature_selection = False, bagging=False, random_seed =42, silent=False, save=''):\r\n",
    "    \r\n",
    "    split_data_timepoint = split_data[timepoint]\r\n",
    "    \r\n",
    "    feature_names = split_data_timepoint['feature_names'].values.tolist()\r\n",
    "    train_feats = split_data_timepoint['train_feats']\r\n",
    "    test_feats = split_data_timepoint['test_feats']\r\n",
    "    train_targets= split_data_timepoint['train_targets_encoded']\r\n",
    "    test_targets = split_data_timepoint['test_targets_encoded']\r\n",
    "\r\n",
    "    \r\n",
    "    clf_name = type(clf).__name__\r\n",
    "    \r\n",
    "    if bagging:\r\n",
    "        clf_name = clf_name + ' + Bagging'\r\n",
    "        clf = BaggingClassifier(base_estimator=clf, n_estimators=20, n_jobs=20, random_state=random_seed)\r\n",
    "\r\n",
    "    elif apply_feature_selection:\r\n",
    "        clf_name = clf_name + ' + Feature Selection'\r\n",
    "        clf = Pipeline([('feature_selection', SelectFromModel(DecisionTreeClassifier(criterion='entropy', random_state=random_seed))),\r\n",
    "                        ('classification', clf)\r\n",
    "                        ])\r\n",
    "        \r\n",
    "    \r\n",
    "    if type(clf).__name__ =='XGBClassifier':\r\n",
    "\r\n",
    "        clf_fit =  clf.fit(train_feats, train_targets, eval_metric='aucpr')\r\n",
    "        \r\n",
    "        \r\n",
    "    else:\r\n",
    "        clf_fit =  clf.fit(train_feats, train_targets)\r\n",
    "    \r\n",
    "    \r\n",
    "    \r\n",
    "    train_y_pred = clf_fit.predict(train_feats)\r\n",
    "    train_y_probas = clf_fit.predict_proba(train_feats)\r\n",
    "    train_accuracy = clf_fit.score(train_feats,train_targets)\r\n",
    "    train_auc = roc_auc_score(train_targets, train_y_probas[:,1])\r\n",
    "    \r\n",
    "    train_results = {'accuracy': train_accuracy,\r\n",
    "                    'AUC': train_auc,\r\n",
    "                    'bi_class_probas': train_y_probas,\r\n",
    "                    'predictions': train_y_pred\r\n",
    "                    }\r\n",
    "       \r\n",
    "    test_y_pred = clf_fit.predict(test_feats)\r\n",
    "    test_y_probas = clf_fit.predict_proba(test_feats)\r\n",
    "    test_accuracy = clf_fit.score(test_feats,test_targets)\r\n",
    "    test_auc = roc_auc_score(test_targets, test_y_probas[:,1])\r\n",
    "    test_pr_score = average_precision_score(test_targets, test_y_probas[:,1])\r\n",
    "    test_f1_score = f1_score(test_targets, test_y_pred)\r\n",
    "    test_mcc = matthews_corrcoef(test_targets, test_y_pred)\r\n",
    "    test_fb_score = fbeta_score(test_targets, test_y_pred, beta=2)\r\n",
    "    \r\n",
    "    res = {'model': clf_name,\r\n",
    "           'timepoint': timepoint,\r\n",
    "           'accuracy': test_accuracy,\r\n",
    "           'AUC': test_auc,\r\n",
    "           'pr_score': test_pr_score,\r\n",
    "           'f1_score': test_f1_score,\r\n",
    "           'fb_score': test_fb_score,\r\n",
    "           'MCC_Score': test_mcc,\r\n",
    "             }   \r\n",
    "    results = pd.DataFrame(res,index=[0])\r\n",
    "    \r\n",
    "    test_results = {'accuracy': test_accuracy,\r\n",
    "                    'AUC': test_auc,\r\n",
    "                    'pr_score': test_pr_score,\r\n",
    "                    'f1_score': test_f1_score,\r\n",
    "                    'fb_score': test_fb_score,\r\n",
    "                    'MCC_Score': test_mcc,\r\n",
    "                    'bi_class_probas': test_y_probas,\r\n",
    "                    'predictions': test_y_pred,\r\n",
    "                    'results_df': results\r\n",
    "                    } \r\n",
    "    \r\n",
    "    packaged_result = {'train_result': train_results,\r\n",
    "                       'test_result': test_results,\r\n",
    "                       'timepoint': timepoint\r\n",
    "                       }\r\n",
    "    \r\n",
    "    \r\n",
    "    \r\n",
    "    if apply_feature_selection:\r\n",
    "        selected_features = [split_data_timepoint['feature_names'][i] for i in clf_fit['feature_selection'].get_support(indices=True)]\r\n",
    "        packaged_result['selected_features']=selected_features\r\n",
    "\r\n",
    "    if not silent:\r\n",
    "        print(f'Classifier: {clf_name}')\r\n",
    "        print(f'Feature Selection Applied = {apply_feature_selection}')\r\n",
    "        if apply_feature_selection:\r\n",
    "            print(f'Features Selected:{selected_features}')\r\n",
    "        print(f\"Number of mislabeled points out of a total {len(test_feats)} points : {(test_targets != test_y_pred).sum()}\")\r\n",
    "\r\n",
    "        display(results)\r\n",
    "  \r\n",
    "        # print(f'Train Accuracy: {train_accuracy}\\nTrain AUC: {train_auc}\\nTrain AUC: {train_auc}')\r\n",
    "        # print(f'Test Accuracy: {test_accuracy}\\nTest AUC: {test_auc}\\nTest Average Precision: {test_pr_score}\\nTest F1 Score: {test_f1_score}\\nTest MCC Score: {test_mcc}')\r\n",
    "        plt.style.use('classic')\r\n",
    "        fig, axs = plt.subplots(1,3, figsize = (22.5,5))\r\n",
    "        \r\n",
    "        cm = plot_confusion_matrix(clf, test_feats,test_targets, ax=axs[0])\r\n",
    "        roc = plot_roc_curve(clf, test_feats,test_targets, ax=axs[1] )\r\n",
    "        pr = plot_precision_recall_curve(clf, test_feats,test_targets, ax=axs[2])\r\n",
    "        \r\n",
    "        fig.suptitle(clf_name+' '+timepoint)\r\n",
    "        packaged_result['confusion_matrix']=cm\r\n",
    "        packaged_result['roc']=roc\r\n",
    "        if not save=='':\r\n",
    "            plt.savefig(save+clf_name+' '+timepoint+'.png')\r\n",
    "        plt.close(fig)\r\n",
    "    if type(clf).__name__ =='XGBClassifier':    \r\n",
    "        clf_fit.get_booster().feature_names = feature_names\r\n",
    "        \r\n",
    "    packaged_result['fit_model'] = clf_fit\r\n",
    "    \r\n",
    "    \r\n",
    "    return packaged_result"
   ]
  },
  {
   "cell_type": "markdown",
   "metadata": {},
   "source": [
    "### Multi Timepoint Classifier Pipeline"
   ]
  },
  {
   "cell_type": "code",
   "execution_count": 4,
   "metadata": {},
   "outputs": [],
   "source": [
    "def apply_multi_clf(clf, split_data, apply_feature_selection = False, bagging=False, random_seed =42, silent=False):\r\n",
    "    timepoints = list(split_data.keys())\r\n",
    "    clf_name = type(clf).__name__\r\n",
    "    \r\n",
    "    # test_feats = split_data[timepoints[0]]['test_feats']\r\n",
    "    train_targets= split_data[timepoints[0]]['train_targets_encoded']\r\n",
    "    test_targets = split_data[timepoints[0]]['test_targets_encoded']\r\n",
    "\r\n",
    "    layer1_outputs = {}\r\n",
    "    for t in timepoints:\r\n",
    "        layer1_outputs[t] = apply_single_clf(clf,split_data,timepoint = t, silent=True, bagging=bagging)\r\n",
    "    \r\n",
    "    layer1_train_features = np.concatenate((layer1_outputs['t1']['train_result']['bi_class_probas'],layer1_outputs['t2']['train_result']['bi_class_probas']),axis=1)\r\n",
    "    layer1_test_features  = np.concatenate((layer1_outputs['t1']['test_result']['bi_class_probas'],layer1_outputs['t2']['test_result']['bi_class_probas']),axis=1)\r\n",
    "\r\n",
    "    layer2_fit =  clf.fit(layer1_train_features, train_targets)\r\n",
    "    \r\n",
    "    layer2_y_pred = layer2_fit.predict(layer1_test_features)\r\n",
    "    layer2_y_probas = layer2_fit.predict_proba(layer1_test_features)\r\n",
    "    layer2_accuracy = layer2_fit.score(layer1_test_features,test_targets)\r\n",
    "    layer2_auc = roc_auc_score(test_targets, layer2_y_probas[:,1])\r\n",
    "    layer2_pr_score = average_precision_score(test_targets, layer2_y_probas[:,1])\r\n",
    "    layer2_f1_score = f1_score(test_targets, layer2_y_pred)\r\n",
    "    layer2_fb_score = fbeta_score(test_targets, layer2_y_pred,beta=2)\r\n",
    "    layer2_mcc = matthews_corrcoef(test_targets, layer2_y_pred)\r\n",
    "    \r\n",
    "    \r\n",
    "    res = {'model': clf_name,\r\n",
    "           'accuracy': layer2_accuracy,\r\n",
    "           'AUC': layer2_auc,\r\n",
    "           'PR_score': layer2_pr_score,\r\n",
    "           'f1_score': layer2_f1_score,\r\n",
    "           'fb_score': layer2_fb_score,\r\n",
    "           'MCC_Score': layer2_mcc,\r\n",
    "          }\r\n",
    "    \r\n",
    "    results = pd.DataFrame(res,index=[0])\r\n",
    "    \r\n",
    "    if not silent:\r\n",
    "        fig, axs = plt.subplots(1,3, figsize = (22.5,5))\r\n",
    "        cm = plot_confusion_matrix(clf, layer1_test_features,test_targets,ax=axs[0])\r\n",
    "        roc = plot_roc_curve(clf, layer1_test_features,test_targets, ax=axs[1] )\r\n",
    "        pr = plot_precision_recall_curve(clf, layer1_test_features,test_targets, ax=axs[2])\r\n",
    "        fig.suptitle(clf_name)\r\n",
    "        # print(f'Test Accuracy: {layer2_accuracy}\\nTest AUC: {layer2_auc}\\nTest Average Precision: {layer2_pr_score}\\nTest f1 Score: {layer2_f1_score}\\nTest MCC Score: {layer2_mcc}')\r\n",
    "        # plt.close(fig)\r\n",
    "        print(results)\r\n",
    "        print('\\n')\r\n",
    "    \r\n",
    "    packaged_result = {'fit_model': layer2_fit,\r\n",
    "                    'accuracy': layer2_accuracy,\r\n",
    "                    'AUC': layer2_auc,\r\n",
    "                    'PR_score': layer2_pr_score,\r\n",
    "                    'f1_score': layer2_f1_score,\r\n",
    "                    'fb_score': layer2_fb_score,\r\n",
    "                    'MCC_Score': layer2_mcc,\r\n",
    "                    'bi_class_probas': layer2_y_probas,\r\n",
    "                    'predictions': layer2_y_pred,\r\n",
    "                    'results_df': results\r\n",
    "                    }\r\n",
    "    # return layer1_features\r\n",
    "    return packaged_result"
   ]
  },
  {
   "cell_type": "markdown",
   "metadata": {},
   "source": [
    "# Loading Data & Applying Split"
   ]
  },
  {
   "cell_type": "markdown",
   "metadata": {},
   "source": [
    "Load Data & Perform Random Split"
   ]
  },
  {
   "cell_type": "code",
   "execution_count": 5,
   "metadata": {},
   "outputs": [],
   "source": [
    "root = os.path.split(os.getcwd())[0]\r\n",
    "save_path = root+'\\\\0.2 outputs\\\\Models\\\\'\r\n",
    "image_feats = {'t1': pd.read_csv(root + '\\\\0.2 outputs\\Wavelet\\T1\\Merged_Features_T1.csv'),'t2': pd.read_csv(root + '\\\\0.2 outputs\\Wavelet\\T2\\Merged_Features_T2.csv')}\r\n",
    "timepoints = ['t1','t2']\r\n",
    "rnd_state = 2\r\n",
    "split_data = {'t1':train_test_split(image_feats['t1'], random_state=rnd_state), 't2':train_test_split(image_feats['t2'], random_state=rnd_state)}"
   ]
  },
  {
   "cell_type": "markdown",
   "metadata": {},
   "source": [
    "# Single Timepoint Models"
   ]
  },
  {
   "cell_type": "markdown",
   "metadata": {},
   "source": [
    "### Apply Naive Bayes"
   ]
  },
  {
   "cell_type": "markdown",
   "metadata": {},
   "source": [
    "Basic Naive Bayes"
   ]
  },
  {
   "cell_type": "code",
   "execution_count": 6,
   "metadata": {},
   "outputs": [
    {
     "name": "stdout",
     "output_type": "stream",
     "text": [
      "Classifier: GaussianNB\n",
      "Feature Selection Applied = False\n",
      "Number of mislabeled points out of a total 36 points : 3\n"
     ]
    },
    {
     "data": {
      "text/html": "<div>\n<style scoped>\n    .dataframe tbody tr th:only-of-type {\n        vertical-align: middle;\n    }\n\n    .dataframe tbody tr th {\n        vertical-align: top;\n    }\n\n    .dataframe thead th {\n        text-align: right;\n    }\n</style>\n<table border=\"1\" class=\"dataframe\">\n  <thead>\n    <tr style=\"text-align: right;\">\n      <th></th>\n      <th>model</th>\n      <th>timepoint</th>\n      <th>accuracy</th>\n      <th>AUC</th>\n      <th>pr_score</th>\n      <th>f1_score</th>\n      <th>fb_score</th>\n      <th>MCC_Score</th>\n    </tr>\n  </thead>\n  <tbody>\n    <tr>\n      <th>0</th>\n      <td>GaussianNB</td>\n      <td>t1</td>\n      <td>0.916667</td>\n      <td>0.871094</td>\n      <td>0.615132</td>\n      <td>0.666667</td>\n      <td>0.714286</td>\n      <td>0.624758</td>\n    </tr>\n  </tbody>\n</table>\n</div>",
      "text/plain": "        model timepoint  accuracy       AUC  pr_score  f1_score  fb_score  \\\n0  GaussianNB        t1  0.916667  0.871094  0.615132  0.666667  0.714286   \n\n   MCC_Score  \n0   0.624758  "
     },
     "metadata": {},
     "output_type": "display_data"
    },
    {
     "name": "stdout",
     "output_type": "stream",
     "text": [
      "Classifier: GaussianNB\n",
      "Feature Selection Applied = False\n",
      "Number of mislabeled points out of a total 36 points : 20\n"
     ]
    },
    {
     "data": {
      "text/html": "<div>\n<style scoped>\n    .dataframe tbody tr th:only-of-type {\n        vertical-align: middle;\n    }\n\n    .dataframe tbody tr th {\n        vertical-align: top;\n    }\n\n    .dataframe thead th {\n        text-align: right;\n    }\n</style>\n<table border=\"1\" class=\"dataframe\">\n  <thead>\n    <tr style=\"text-align: right;\">\n      <th></th>\n      <th>model</th>\n      <th>timepoint</th>\n      <th>accuracy</th>\n      <th>AUC</th>\n      <th>pr_score</th>\n      <th>f1_score</th>\n      <th>fb_score</th>\n      <th>MCC_Score</th>\n    </tr>\n  </thead>\n  <tbody>\n    <tr>\n      <th>0</th>\n      <td>GaussianNB</td>\n      <td>t2</td>\n      <td>0.444444</td>\n      <td>0.382812</td>\n      <td>0.122222</td>\n      <td>0.166667</td>\n      <td>0.277778</td>\n      <td>-0.039528</td>\n    </tr>\n  </tbody>\n</table>\n</div>",
      "text/plain": "        model timepoint  accuracy       AUC  pr_score  f1_score  fb_score  \\\n0  GaussianNB        t2  0.444444  0.382812  0.122222  0.166667  0.277778   \n\n   MCC_Score  \n0  -0.039528  "
     },
     "metadata": {},
     "output_type": "display_data"
    }
   ],
   "source": [
    "clf = GaussianNB()\r\n",
    "t1_gnb = apply_single_clf(clf, split_data, timepoint='t1', apply_feature_selection=False, bagging=False, save=save_path)\r\n",
    "t2_gnb = apply_single_clf(clf, split_data, timepoint='t2', apply_feature_selection=False, bagging=False, save=save_path)"
   ]
  },
  {
   "cell_type": "markdown",
   "metadata": {},
   "source": [
    "Naive Bayes preceeded by Decision Tree feature selector"
   ]
  },
  {
   "cell_type": "code",
   "execution_count": 7,
   "metadata": {},
   "outputs": [
    {
     "name": "stdout",
     "output_type": "stream",
     "text": [
      "Classifier: GaussianNB + Feature Selection\n",
      "Feature Selection Applied = True\n",
      "Features Selected:['PET_wavelet-HLL_gldm_LargeDependenceHighGrayLevelEmphasis', 'PET_wavelet-HLH_glszm_SmallAreaHighGrayLevelEmphasis', 'PET_wavelet-HHH_firstorder_Skewness']\n",
      "Number of mislabeled points out of a total 36 points : 11\n"
     ]
    },
    {
     "data": {
      "text/html": "<div>\n<style scoped>\n    .dataframe tbody tr th:only-of-type {\n        vertical-align: middle;\n    }\n\n    .dataframe tbody tr th {\n        vertical-align: top;\n    }\n\n    .dataframe thead th {\n        text-align: right;\n    }\n</style>\n<table border=\"1\" class=\"dataframe\">\n  <thead>\n    <tr style=\"text-align: right;\">\n      <th></th>\n      <th>model</th>\n      <th>timepoint</th>\n      <th>accuracy</th>\n      <th>AUC</th>\n      <th>pr_score</th>\n      <th>f1_score</th>\n      <th>fb_score</th>\n      <th>MCC_Score</th>\n    </tr>\n  </thead>\n  <tbody>\n    <tr>\n      <th>0</th>\n      <td>GaussianNB + Feature Selection</td>\n      <td>t1</td>\n      <td>0.694444</td>\n      <td>0.585938</td>\n      <td>0.190278</td>\n      <td>0.153846</td>\n      <td>0.2</td>\n      <td>0.0</td>\n    </tr>\n  </tbody>\n</table>\n</div>",
      "text/plain": "                            model timepoint  accuracy       AUC  pr_score  \\\n0  GaussianNB + Feature Selection        t1  0.694444  0.585938  0.190278   \n\n   f1_score  fb_score  MCC_Score  \n0  0.153846       0.2        0.0  "
     },
     "metadata": {},
     "output_type": "display_data"
    },
    {
     "name": "stdout",
     "output_type": "stream",
     "text": [
      "Classifier: GaussianNB + Feature Selection\n",
      "Feature Selection Applied = True\n",
      "Features Selected:['CT_wavelet-LHH_glszm_SmallAreaLowGrayLevelEmphasis', 'PET_wavelet-HLH_glcm_ClusterTendency']\n",
      "Number of mislabeled points out of a total 36 points : 14\n"
     ]
    },
    {
     "data": {
      "text/html": "<div>\n<style scoped>\n    .dataframe tbody tr th:only-of-type {\n        vertical-align: middle;\n    }\n\n    .dataframe tbody tr th {\n        vertical-align: top;\n    }\n\n    .dataframe thead th {\n        text-align: right;\n    }\n</style>\n<table border=\"1\" class=\"dataframe\">\n  <thead>\n    <tr style=\"text-align: right;\">\n      <th></th>\n      <th>model</th>\n      <th>timepoint</th>\n      <th>accuracy</th>\n      <th>AUC</th>\n      <th>pr_score</th>\n      <th>f1_score</th>\n      <th>fb_score</th>\n      <th>MCC_Score</th>\n    </tr>\n  </thead>\n  <tbody>\n    <tr>\n      <th>0</th>\n      <td>GaussianNB + Feature Selection</td>\n      <td>t2</td>\n      <td>0.611111</td>\n      <td>0.304688</td>\n      <td>0.158889</td>\n      <td>0.125</td>\n      <td>0.178571</td>\n      <td>-0.0625</td>\n    </tr>\n  </tbody>\n</table>\n</div>",
      "text/plain": "                            model timepoint  accuracy       AUC  pr_score  \\\n0  GaussianNB + Feature Selection        t2  0.611111  0.304688  0.158889   \n\n   f1_score  fb_score  MCC_Score  \n0     0.125  0.178571    -0.0625  "
     },
     "metadata": {},
     "output_type": "display_data"
    }
   ],
   "source": [
    "clf = GaussianNB()\r\n",
    "t1_gnb = apply_single_clf(clf, split_data, timepoint='t1', apply_feature_selection=True, bagging=False, save=save_path)\r\n",
    "t2_gnb = apply_single_clf(clf, split_data, timepoint='t2', apply_feature_selection=True, bagging=False, save=save_path)"
   ]
  },
  {
   "cell_type": "markdown",
   "metadata": {},
   "source": [
    "Naive Bayes applied with Bagging"
   ]
  },
  {
   "cell_type": "code",
   "execution_count": 8,
   "metadata": {},
   "outputs": [
    {
     "name": "stdout",
     "output_type": "stream",
     "text": [
      "Classifier: GaussianNB + Bagging\n",
      "Feature Selection Applied = False\n",
      "Number of mislabeled points out of a total 36 points : 3\n"
     ]
    },
    {
     "data": {
      "text/html": "<div>\n<style scoped>\n    .dataframe tbody tr th:only-of-type {\n        vertical-align: middle;\n    }\n\n    .dataframe tbody tr th {\n        vertical-align: top;\n    }\n\n    .dataframe thead th {\n        text-align: right;\n    }\n</style>\n<table border=\"1\" class=\"dataframe\">\n  <thead>\n    <tr style=\"text-align: right;\">\n      <th></th>\n      <th>model</th>\n      <th>timepoint</th>\n      <th>accuracy</th>\n      <th>AUC</th>\n      <th>pr_score</th>\n      <th>f1_score</th>\n      <th>fb_score</th>\n      <th>MCC_Score</th>\n    </tr>\n  </thead>\n  <tbody>\n    <tr>\n      <th>0</th>\n      <td>GaussianNB + Bagging</td>\n      <td>t1</td>\n      <td>0.916667</td>\n      <td>0.863281</td>\n      <td>0.6125</td>\n      <td>0.666667</td>\n      <td>0.714286</td>\n      <td>0.624758</td>\n    </tr>\n  </tbody>\n</table>\n</div>",
      "text/plain": "                  model timepoint  accuracy       AUC  pr_score  f1_score  \\\n0  GaussianNB + Bagging        t1  0.916667  0.863281    0.6125  0.666667   \n\n   fb_score  MCC_Score  \n0  0.714286   0.624758  "
     },
     "metadata": {},
     "output_type": "display_data"
    },
    {
     "name": "stdout",
     "output_type": "stream",
     "text": [
      "Classifier: GaussianNB + Bagging\n",
      "Feature Selection Applied = False\n",
      "Number of mislabeled points out of a total 36 points : 18\n"
     ]
    },
    {
     "data": {
      "text/html": "<div>\n<style scoped>\n    .dataframe tbody tr th:only-of-type {\n        vertical-align: middle;\n    }\n\n    .dataframe tbody tr th {\n        vertical-align: top;\n    }\n\n    .dataframe thead th {\n        text-align: right;\n    }\n</style>\n<table border=\"1\" class=\"dataframe\">\n  <thead>\n    <tr style=\"text-align: right;\">\n      <th></th>\n      <th>model</th>\n      <th>timepoint</th>\n      <th>accuracy</th>\n      <th>AUC</th>\n      <th>pr_score</th>\n      <th>f1_score</th>\n      <th>fb_score</th>\n      <th>MCC_Score</th>\n    </tr>\n  </thead>\n  <tbody>\n    <tr>\n      <th>0</th>\n      <td>GaussianNB + Bagging</td>\n      <td>t2</td>\n      <td>0.5</td>\n      <td>0.476562</td>\n      <td>0.130159</td>\n      <td>0.181818</td>\n      <td>0.294118</td>\n      <td>0.0</td>\n    </tr>\n  </tbody>\n</table>\n</div>",
      "text/plain": "                  model timepoint  accuracy       AUC  pr_score  f1_score  \\\n0  GaussianNB + Bagging        t2       0.5  0.476562  0.130159  0.181818   \n\n   fb_score  MCC_Score  \n0  0.294118        0.0  "
     },
     "metadata": {},
     "output_type": "display_data"
    }
   ],
   "source": [
    "clf = GaussianNB()\r\n",
    "t1_gnb = apply_single_clf(clf, split_data, timepoint='t1', apply_feature_selection=False, bagging=True, save=save_path)\r\n",
    "t2_gnb = apply_single_clf(clf, split_data, timepoint='t2', apply_feature_selection=False, bagging=True, save=save_path)"
   ]
  },
  {
   "cell_type": "markdown",
   "metadata": {},
   "source": [
    "### Apply AdaBoostClassifier"
   ]
  },
  {
   "cell_type": "markdown",
   "metadata": {},
   "source": [
    "Base AdaBoostClassifier"
   ]
  },
  {
   "cell_type": "code",
   "execution_count": 9,
   "metadata": {},
   "outputs": [
    {
     "name": "stdout",
     "output_type": "stream",
     "text": [
      "Classifier: AdaBoostClassifier\n",
      "Feature Selection Applied = False\n",
      "Number of mislabeled points out of a total 36 points : 5\n"
     ]
    },
    {
     "data": {
      "text/html": "<div>\n<style scoped>\n    .dataframe tbody tr th:only-of-type {\n        vertical-align: middle;\n    }\n\n    .dataframe tbody tr th {\n        vertical-align: top;\n    }\n\n    .dataframe thead th {\n        text-align: right;\n    }\n</style>\n<table border=\"1\" class=\"dataframe\">\n  <thead>\n    <tr style=\"text-align: right;\">\n      <th></th>\n      <th>model</th>\n      <th>timepoint</th>\n      <th>accuracy</th>\n      <th>AUC</th>\n      <th>pr_score</th>\n      <th>f1_score</th>\n      <th>fb_score</th>\n      <th>MCC_Score</th>\n    </tr>\n  </thead>\n  <tbody>\n    <tr>\n      <th>0</th>\n      <td>AdaBoostClassifier</td>\n      <td>t1</td>\n      <td>0.861111</td>\n      <td>0.847656</td>\n      <td>0.530556</td>\n      <td>0.444444</td>\n      <td>0.47619</td>\n      <td>0.369175</td>\n    </tr>\n  </tbody>\n</table>\n</div>",
      "text/plain": "                model timepoint  accuracy       AUC  pr_score  f1_score  \\\n0  AdaBoostClassifier        t1  0.861111  0.847656  0.530556  0.444444   \n\n   fb_score  MCC_Score  \n0   0.47619   0.369175  "
     },
     "metadata": {},
     "output_type": "display_data"
    },
    {
     "name": "stdout",
     "output_type": "stream",
     "text": [
      "Classifier: AdaBoostClassifier\n",
      "Feature Selection Applied = False\n",
      "Number of mislabeled points out of a total 36 points : 3\n"
     ]
    },
    {
     "data": {
      "text/html": "<div>\n<style scoped>\n    .dataframe tbody tr th:only-of-type {\n        vertical-align: middle;\n    }\n\n    .dataframe tbody tr th {\n        vertical-align: top;\n    }\n\n    .dataframe thead th {\n        text-align: right;\n    }\n</style>\n<table border=\"1\" class=\"dataframe\">\n  <thead>\n    <tr style=\"text-align: right;\">\n      <th></th>\n      <th>model</th>\n      <th>timepoint</th>\n      <th>accuracy</th>\n      <th>AUC</th>\n      <th>pr_score</th>\n      <th>f1_score</th>\n      <th>fb_score</th>\n      <th>MCC_Score</th>\n    </tr>\n  </thead>\n  <tbody>\n    <tr>\n      <th>0</th>\n      <td>AdaBoostClassifier</td>\n      <td>t2</td>\n      <td>0.916667</td>\n      <td>0.757812</td>\n      <td>0.593478</td>\n      <td>0.571429</td>\n      <td>0.526316</td>\n      <td>0.533002</td>\n    </tr>\n  </tbody>\n</table>\n</div>",
      "text/plain": "                model timepoint  accuracy       AUC  pr_score  f1_score  \\\n0  AdaBoostClassifier        t2  0.916667  0.757812  0.593478  0.571429   \n\n   fb_score  MCC_Score  \n0  0.526316   0.533002  "
     },
     "metadata": {},
     "output_type": "display_data"
    }
   ],
   "source": [
    "clf = AdaBoostClassifier()\r\n",
    "\r\n",
    "t1_gnb = apply_single_clf(clf, split_data, timepoint='t1', apply_feature_selection=False, bagging=False, save=save_path)\r\n",
    "t2_gnb = apply_single_clf(clf, split_data, timepoint='t2', apply_feature_selection=False, bagging=False, save=save_path)"
   ]
  },
  {
   "cell_type": "markdown",
   "metadata": {},
   "source": [
    "AdaBoostClassifier preceeded by Decision Tree feature selector"
   ]
  },
  {
   "cell_type": "code",
   "execution_count": 10,
   "metadata": {},
   "outputs": [
    {
     "name": "stdout",
     "output_type": "stream",
     "text": [
      "Classifier: AdaBoostClassifier + Feature Selection\n",
      "Feature Selection Applied = True\n",
      "Features Selected:['PET_wavelet-HLL_gldm_LargeDependenceHighGrayLevelEmphasis', 'PET_wavelet-HLH_glszm_SmallAreaHighGrayLevelEmphasis', 'PET_wavelet-HHH_firstorder_Skewness']\n",
      "Number of mislabeled points out of a total 36 points : 6\n"
     ]
    },
    {
     "data": {
      "text/html": "<div>\n<style scoped>\n    .dataframe tbody tr th:only-of-type {\n        vertical-align: middle;\n    }\n\n    .dataframe tbody tr th {\n        vertical-align: top;\n    }\n\n    .dataframe thead th {\n        text-align: right;\n    }\n</style>\n<table border=\"1\" class=\"dataframe\">\n  <thead>\n    <tr style=\"text-align: right;\">\n      <th></th>\n      <th>model</th>\n      <th>timepoint</th>\n      <th>accuracy</th>\n      <th>AUC</th>\n      <th>pr_score</th>\n      <th>f1_score</th>\n      <th>fb_score</th>\n      <th>MCC_Score</th>\n    </tr>\n  </thead>\n  <tbody>\n    <tr>\n      <th>0</th>\n      <td>AdaBoostClassifier + Feature Selection</td>\n      <td>t1</td>\n      <td>0.833333</td>\n      <td>0.859375</td>\n      <td>0.317262</td>\n      <td>0.571429</td>\n      <td>0.769231</td>\n      <td>0.570088</td>\n    </tr>\n  </tbody>\n</table>\n</div>",
      "text/plain": "                                    model timepoint  accuracy       AUC  \\\n0  AdaBoostClassifier + Feature Selection        t1  0.833333  0.859375   \n\n   pr_score  f1_score  fb_score  MCC_Score  \n0  0.317262  0.571429  0.769231   0.570088  "
     },
     "metadata": {},
     "output_type": "display_data"
    },
    {
     "name": "stdout",
     "output_type": "stream",
     "text": [
      "Classifier: AdaBoostClassifier + Feature Selection\n",
      "Feature Selection Applied = True\n",
      "Features Selected:['CT_wavelet-LHH_glszm_SmallAreaLowGrayLevelEmphasis', 'PET_wavelet-HLH_glcm_ClusterTendency']\n",
      "Number of mislabeled points out of a total 36 points : 6\n"
     ]
    },
    {
     "data": {
      "text/html": "<div>\n<style scoped>\n    .dataframe tbody tr th:only-of-type {\n        vertical-align: middle;\n    }\n\n    .dataframe tbody tr th {\n        vertical-align: top;\n    }\n\n    .dataframe thead th {\n        text-align: right;\n    }\n</style>\n<table border=\"1\" class=\"dataframe\">\n  <thead>\n    <tr style=\"text-align: right;\">\n      <th></th>\n      <th>model</th>\n      <th>timepoint</th>\n      <th>accuracy</th>\n      <th>AUC</th>\n      <th>pr_score</th>\n      <th>f1_score</th>\n      <th>fb_score</th>\n      <th>MCC_Score</th>\n    </tr>\n  </thead>\n  <tbody>\n    <tr>\n      <th>0</th>\n      <td>AdaBoostClassifier + Feature Selection</td>\n      <td>t2</td>\n      <td>0.833333</td>\n      <td>0.453125</td>\n      <td>0.141865</td>\n      <td>0.25</td>\n      <td>0.25</td>\n      <td>0.15625</td>\n    </tr>\n  </tbody>\n</table>\n</div>",
      "text/plain": "                                    model timepoint  accuracy       AUC  \\\n0  AdaBoostClassifier + Feature Selection        t2  0.833333  0.453125   \n\n   pr_score  f1_score  fb_score  MCC_Score  \n0  0.141865      0.25      0.25    0.15625  "
     },
     "metadata": {},
     "output_type": "display_data"
    }
   ],
   "source": [
    "clf = AdaBoostClassifier()\r\n",
    "t1_gnb = apply_single_clf(clf, split_data, timepoint='t1', apply_feature_selection=True, bagging=False, save=save_path)\r\n",
    "t2_gnb = apply_single_clf(clf, split_data, timepoint='t2', apply_feature_selection=True, bagging=False, save=save_path)"
   ]
  },
  {
   "cell_type": "markdown",
   "metadata": {},
   "source": [
    "AdaBoostClassifier with bagging"
   ]
  },
  {
   "cell_type": "code",
   "execution_count": 11,
   "metadata": {},
   "outputs": [
    {
     "name": "stdout",
     "output_type": "stream",
     "text": [
      "Classifier: AdaBoostClassifier + Bagging\n",
      "Feature Selection Applied = False\n",
      "Number of mislabeled points out of a total 36 points : 2\n"
     ]
    },
    {
     "data": {
      "text/html": "<div>\n<style scoped>\n    .dataframe tbody tr th:only-of-type {\n        vertical-align: middle;\n    }\n\n    .dataframe tbody tr th {\n        vertical-align: top;\n    }\n\n    .dataframe thead th {\n        text-align: right;\n    }\n</style>\n<table border=\"1\" class=\"dataframe\">\n  <thead>\n    <tr style=\"text-align: right;\">\n      <th></th>\n      <th>model</th>\n      <th>timepoint</th>\n      <th>accuracy</th>\n      <th>AUC</th>\n      <th>pr_score</th>\n      <th>f1_score</th>\n      <th>fb_score</th>\n      <th>MCC_Score</th>\n    </tr>\n  </thead>\n  <tbody>\n    <tr>\n      <th>0</th>\n      <td>AdaBoostClassifier + Bagging</td>\n      <td>t1</td>\n      <td>0.944444</td>\n      <td>0.914062</td>\n      <td>0.726923</td>\n      <td>0.666667</td>\n      <td>0.555556</td>\n      <td>0.685994</td>\n    </tr>\n  </tbody>\n</table>\n</div>",
      "text/plain": "                          model timepoint  accuracy       AUC  pr_score  \\\n0  AdaBoostClassifier + Bagging        t1  0.944444  0.914062  0.726923   \n\n   f1_score  fb_score  MCC_Score  \n0  0.666667  0.555556   0.685994  "
     },
     "metadata": {},
     "output_type": "display_data"
    },
    {
     "name": "stdout",
     "output_type": "stream",
     "text": [
      "Classifier: AdaBoostClassifier + Bagging\n",
      "Feature Selection Applied = False\n",
      "Number of mislabeled points out of a total 36 points : 3\n"
     ]
    },
    {
     "data": {
      "text/html": "<div>\n<style scoped>\n    .dataframe tbody tr th:only-of-type {\n        vertical-align: middle;\n    }\n\n    .dataframe tbody tr th {\n        vertical-align: top;\n    }\n\n    .dataframe thead th {\n        text-align: right;\n    }\n</style>\n<table border=\"1\" class=\"dataframe\">\n  <thead>\n    <tr style=\"text-align: right;\">\n      <th></th>\n      <th>model</th>\n      <th>timepoint</th>\n      <th>accuracy</th>\n      <th>AUC</th>\n      <th>pr_score</th>\n      <th>f1_score</th>\n      <th>fb_score</th>\n      <th>MCC_Score</th>\n    </tr>\n  </thead>\n  <tbody>\n    <tr>\n      <th>0</th>\n      <td>AdaBoostClassifier + Bagging</td>\n      <td>t2</td>\n      <td>0.916667</td>\n      <td>0.789062</td>\n      <td>0.605311</td>\n      <td>0.571429</td>\n      <td>0.526316</td>\n      <td>0.533002</td>\n    </tr>\n  </tbody>\n</table>\n</div>",
      "text/plain": "                          model timepoint  accuracy       AUC  pr_score  \\\n0  AdaBoostClassifier + Bagging        t2  0.916667  0.789062  0.605311   \n\n   f1_score  fb_score  MCC_Score  \n0  0.571429  0.526316   0.533002  "
     },
     "metadata": {},
     "output_type": "display_data"
    }
   ],
   "source": [
    "clf = AdaBoostClassifier()\r\n",
    "\r\n",
    "t1_gnb = apply_single_clf(clf, split_data, timepoint='t1', apply_feature_selection=False, bagging=True, save=save_path)\r\n",
    "t2_gnb = apply_single_clf(clf, split_data, timepoint='t2', apply_feature_selection=False, bagging=True, save=save_path)\r\n"
   ]
  },
  {
   "cell_type": "markdown",
   "metadata": {},
   "source": [
    "### GradientBoosting"
   ]
  },
  {
   "cell_type": "markdown",
   "metadata": {},
   "source": [
    "GradientBoosting base model"
   ]
  },
  {
   "cell_type": "code",
   "execution_count": 12,
   "metadata": {},
   "outputs": [
    {
     "name": "stdout",
     "output_type": "stream",
     "text": [
      "Classifier: GradientBoostingClassifier\n",
      "Feature Selection Applied = False\n",
      "Number of mislabeled points out of a total 36 points : 6\n"
     ]
    },
    {
     "data": {
      "text/html": "<div>\n<style scoped>\n    .dataframe tbody tr th:only-of-type {\n        vertical-align: middle;\n    }\n\n    .dataframe tbody tr th {\n        vertical-align: top;\n    }\n\n    .dataframe thead th {\n        text-align: right;\n    }\n</style>\n<table border=\"1\" class=\"dataframe\">\n  <thead>\n    <tr style=\"text-align: right;\">\n      <th></th>\n      <th>model</th>\n      <th>timepoint</th>\n      <th>accuracy</th>\n      <th>AUC</th>\n      <th>pr_score</th>\n      <th>f1_score</th>\n      <th>fb_score</th>\n      <th>MCC_Score</th>\n    </tr>\n  </thead>\n  <tbody>\n    <tr>\n      <th>0</th>\n      <td>GradientBoostingClassifier</td>\n      <td>t1</td>\n      <td>0.833333</td>\n      <td>0.914062</td>\n      <td>0.433333</td>\n      <td>0.571429</td>\n      <td>0.769231</td>\n      <td>0.570088</td>\n    </tr>\n  </tbody>\n</table>\n</div>",
      "text/plain": "                        model timepoint  accuracy       AUC  pr_score  \\\n0  GradientBoostingClassifier        t1  0.833333  0.914062  0.433333   \n\n   f1_score  fb_score  MCC_Score  \n0  0.571429  0.769231   0.570088  "
     },
     "metadata": {},
     "output_type": "display_data"
    },
    {
     "name": "stdout",
     "output_type": "stream",
     "text": [
      "Classifier: GradientBoostingClassifier\n",
      "Feature Selection Applied = False\n",
      "Number of mislabeled points out of a total 36 points : 6\n"
     ]
    },
    {
     "data": {
      "text/html": "<div>\n<style scoped>\n    .dataframe tbody tr th:only-of-type {\n        vertical-align: middle;\n    }\n\n    .dataframe tbody tr th {\n        vertical-align: top;\n    }\n\n    .dataframe thead th {\n        text-align: right;\n    }\n</style>\n<table border=\"1\" class=\"dataframe\">\n  <thead>\n    <tr style=\"text-align: right;\">\n      <th></th>\n      <th>model</th>\n      <th>timepoint</th>\n      <th>accuracy</th>\n      <th>AUC</th>\n      <th>pr_score</th>\n      <th>f1_score</th>\n      <th>fb_score</th>\n      <th>MCC_Score</th>\n    </tr>\n  </thead>\n  <tbody>\n    <tr>\n      <th>0</th>\n      <td>GradientBoostingClassifier</td>\n      <td>t2</td>\n      <td>0.833333</td>\n      <td>0.6875</td>\n      <td>0.305556</td>\n      <td>0.4</td>\n      <td>0.454545</td>\n      <td>0.316228</td>\n    </tr>\n  </tbody>\n</table>\n</div>",
      "text/plain": "                        model timepoint  accuracy     AUC  pr_score  f1_score  \\\n0  GradientBoostingClassifier        t2  0.833333  0.6875  0.305556       0.4   \n\n   fb_score  MCC_Score  \n0  0.454545   0.316228  "
     },
     "metadata": {},
     "output_type": "display_data"
    }
   ],
   "source": [
    "clf = GradientBoostingClassifier()\r\n",
    "t1_gnb = apply_single_clf(clf, split_data, timepoint='t1', apply_feature_selection=False, bagging=False, save=save_path)\r\n",
    "t2_gnb = apply_single_clf(clf, split_data, timepoint='t2', apply_feature_selection=False, bagging=False, save=save_path)"
   ]
  },
  {
   "cell_type": "markdown",
   "metadata": {},
   "source": [
    "GradientBoosting preceeded by Decision Tree feature selector"
   ]
  },
  {
   "cell_type": "code",
   "execution_count": 13,
   "metadata": {},
   "outputs": [
    {
     "name": "stdout",
     "output_type": "stream",
     "text": [
      "Classifier: GradientBoostingClassifier + Feature Selection\n",
      "Feature Selection Applied = True\n",
      "Features Selected:['PET_wavelet-HLL_gldm_LargeDependenceHighGrayLevelEmphasis', 'PET_wavelet-HLH_glszm_SmallAreaHighGrayLevelEmphasis', 'PET_wavelet-HHH_firstorder_Skewness']\n",
      "Number of mislabeled points out of a total 36 points : 6\n"
     ]
    },
    {
     "data": {
      "text/html": "<div>\n<style scoped>\n    .dataframe tbody tr th:only-of-type {\n        vertical-align: middle;\n    }\n\n    .dataframe tbody tr th {\n        vertical-align: top;\n    }\n\n    .dataframe thead th {\n        text-align: right;\n    }\n</style>\n<table border=\"1\" class=\"dataframe\">\n  <thead>\n    <tr style=\"text-align: right;\">\n      <th></th>\n      <th>model</th>\n      <th>timepoint</th>\n      <th>accuracy</th>\n      <th>AUC</th>\n      <th>pr_score</th>\n      <th>f1_score</th>\n      <th>fb_score</th>\n      <th>MCC_Score</th>\n    </tr>\n  </thead>\n  <tbody>\n    <tr>\n      <th>0</th>\n      <td>GradientBoostingClassifier + Feature Selection</td>\n      <td>t1</td>\n      <td>0.833333</td>\n      <td>0.90625</td>\n      <td>0.4</td>\n      <td>0.571429</td>\n      <td>0.769231</td>\n      <td>0.570088</td>\n    </tr>\n  </tbody>\n</table>\n</div>",
      "text/plain": "                                            model timepoint  accuracy  \\\n0  GradientBoostingClassifier + Feature Selection        t1  0.833333   \n\n       AUC  pr_score  f1_score  fb_score  MCC_Score  \n0  0.90625       0.4  0.571429  0.769231   0.570088  "
     },
     "metadata": {},
     "output_type": "display_data"
    },
    {
     "name": "stdout",
     "output_type": "stream",
     "text": [
      "Classifier: GradientBoostingClassifier + Feature Selection\n",
      "Feature Selection Applied = True\n",
      "Features Selected:['CT_wavelet-LHH_glszm_SmallAreaLowGrayLevelEmphasis', 'PET_wavelet-HLH_glcm_ClusterTendency']\n",
      "Number of mislabeled points out of a total 36 points : 6\n"
     ]
    },
    {
     "data": {
      "text/html": "<div>\n<style scoped>\n    .dataframe tbody tr th:only-of-type {\n        vertical-align: middle;\n    }\n\n    .dataframe tbody tr th {\n        vertical-align: top;\n    }\n\n    .dataframe thead th {\n        text-align: right;\n    }\n</style>\n<table border=\"1\" class=\"dataframe\">\n  <thead>\n    <tr style=\"text-align: right;\">\n      <th></th>\n      <th>model</th>\n      <th>timepoint</th>\n      <th>accuracy</th>\n      <th>AUC</th>\n      <th>pr_score</th>\n      <th>f1_score</th>\n      <th>fb_score</th>\n      <th>MCC_Score</th>\n    </tr>\n  </thead>\n  <tbody>\n    <tr>\n      <th>0</th>\n      <td>GradientBoostingClassifier + Feature Selection</td>\n      <td>t2</td>\n      <td>0.833333</td>\n      <td>0.578125</td>\n      <td>0.145833</td>\n      <td>0.25</td>\n      <td>0.25</td>\n      <td>0.15625</td>\n    </tr>\n  </tbody>\n</table>\n</div>",
      "text/plain": "                                            model timepoint  accuracy  \\\n0  GradientBoostingClassifier + Feature Selection        t2  0.833333   \n\n        AUC  pr_score  f1_score  fb_score  MCC_Score  \n0  0.578125  0.145833      0.25      0.25    0.15625  "
     },
     "metadata": {},
     "output_type": "display_data"
    }
   ],
   "source": [
    "clf = GradientBoostingClassifier()\r\n",
    "t1_gnb = apply_single_clf(clf, split_data, timepoint='t1', apply_feature_selection=True, bagging=False, save=save_path)\r\n",
    "t2_gnb = apply_single_clf(clf, split_data, timepoint='t2', apply_feature_selection=True, bagging=False, save=save_path)"
   ]
  },
  {
   "cell_type": "markdown",
   "metadata": {},
   "source": [
    "GradientBoosting with bagging"
   ]
  },
  {
   "cell_type": "code",
   "execution_count": 14,
   "metadata": {},
   "outputs": [
    {
     "name": "stdout",
     "output_type": "stream",
     "text": [
      "Classifier: GradientBoostingClassifier + Bagging\n",
      "Feature Selection Applied = False\n",
      "Number of mislabeled points out of a total 36 points : 1\n"
     ]
    },
    {
     "data": {
      "text/html": "<div>\n<style scoped>\n    .dataframe tbody tr th:only-of-type {\n        vertical-align: middle;\n    }\n\n    .dataframe tbody tr th {\n        vertical-align: top;\n    }\n\n    .dataframe thead th {\n        text-align: right;\n    }\n</style>\n<table border=\"1\" class=\"dataframe\">\n  <thead>\n    <tr style=\"text-align: right;\">\n      <th></th>\n      <th>model</th>\n      <th>timepoint</th>\n      <th>accuracy</th>\n      <th>AUC</th>\n      <th>pr_score</th>\n      <th>f1_score</th>\n      <th>fb_score</th>\n      <th>MCC_Score</th>\n    </tr>\n  </thead>\n  <tbody>\n    <tr>\n      <th>0</th>\n      <td>GradientBoostingClassifier + Bagging</td>\n      <td>t1</td>\n      <td>0.972222</td>\n      <td>0.945312</td>\n      <td>0.840909</td>\n      <td>0.857143</td>\n      <td>0.789474</td>\n      <td>0.852803</td>\n    </tr>\n  </tbody>\n</table>\n</div>",
      "text/plain": "                                  model timepoint  accuracy       AUC  \\\n0  GradientBoostingClassifier + Bagging        t1  0.972222  0.945312   \n\n   pr_score  f1_score  fb_score  MCC_Score  \n0  0.840909  0.857143  0.789474   0.852803  "
     },
     "metadata": {},
     "output_type": "display_data"
    },
    {
     "name": "stdout",
     "output_type": "stream",
     "text": [
      "Classifier: GradientBoostingClassifier + Bagging\n",
      "Feature Selection Applied = False\n",
      "Number of mislabeled points out of a total 36 points : 6\n"
     ]
    },
    {
     "data": {
      "text/html": "<div>\n<style scoped>\n    .dataframe tbody tr th:only-of-type {\n        vertical-align: middle;\n    }\n\n    .dataframe tbody tr th {\n        vertical-align: top;\n    }\n\n    .dataframe thead th {\n        text-align: right;\n    }\n</style>\n<table border=\"1\" class=\"dataframe\">\n  <thead>\n    <tr style=\"text-align: right;\">\n      <th></th>\n      <th>model</th>\n      <th>timepoint</th>\n      <th>accuracy</th>\n      <th>AUC</th>\n      <th>pr_score</th>\n      <th>f1_score</th>\n      <th>fb_score</th>\n      <th>MCC_Score</th>\n    </tr>\n  </thead>\n  <tbody>\n    <tr>\n      <th>0</th>\n      <td>GradientBoostingClassifier + Bagging</td>\n      <td>t2</td>\n      <td>0.833333</td>\n      <td>0.726562</td>\n      <td>0.310833</td>\n      <td>0.4</td>\n      <td>0.454545</td>\n      <td>0.316228</td>\n    </tr>\n  </tbody>\n</table>\n</div>",
      "text/plain": "                                  model timepoint  accuracy       AUC  \\\n0  GradientBoostingClassifier + Bagging        t2  0.833333  0.726562   \n\n   pr_score  f1_score  fb_score  MCC_Score  \n0  0.310833       0.4  0.454545   0.316228  "
     },
     "metadata": {},
     "output_type": "display_data"
    }
   ],
   "source": [
    "clf = GradientBoostingClassifier(n_estimators=50)\r\n",
    "t1_gnb = apply_single_clf(clf, split_data, timepoint='t1', apply_feature_selection=False, bagging=True, save=save_path)\r\n",
    "t2_gnb = apply_single_clf(clf, split_data, timepoint='t2', apply_feature_selection=False, bagging=True, save=save_path)"
   ]
  },
  {
   "cell_type": "code",
   "execution_count": 15,
   "metadata": {},
   "outputs": [
    {
     "name": "stdout",
     "output_type": "stream",
     "text": [
      "Classifier: XGBClassifier\n",
      "Feature Selection Applied = False\n",
      "Number of mislabeled points out of a total 36 points : 6\n"
     ]
    },
    {
     "data": {
      "text/html": "<div>\n<style scoped>\n    .dataframe tbody tr th:only-of-type {\n        vertical-align: middle;\n    }\n\n    .dataframe tbody tr th {\n        vertical-align: top;\n    }\n\n    .dataframe thead th {\n        text-align: right;\n    }\n</style>\n<table border=\"1\" class=\"dataframe\">\n  <thead>\n    <tr style=\"text-align: right;\">\n      <th></th>\n      <th>model</th>\n      <th>timepoint</th>\n      <th>accuracy</th>\n      <th>AUC</th>\n      <th>pr_score</th>\n      <th>f1_score</th>\n      <th>fb_score</th>\n      <th>MCC_Score</th>\n    </tr>\n  </thead>\n  <tbody>\n    <tr>\n      <th>0</th>\n      <td>XGBClassifier</td>\n      <td>t1</td>\n      <td>0.833333</td>\n      <td>0.765625</td>\n      <td>0.262626</td>\n      <td>0.4</td>\n      <td>0.454545</td>\n      <td>0.316228</td>\n    </tr>\n  </tbody>\n</table>\n</div>",
      "text/plain": "           model timepoint  accuracy       AUC  pr_score  f1_score  fb_score  \\\n0  XGBClassifier        t1  0.833333  0.765625  0.262626       0.4  0.454545   \n\n   MCC_Score  \n0   0.316228  "
     },
     "metadata": {},
     "output_type": "display_data"
    },
    {
     "name": "stdout",
     "output_type": "stream",
     "text": [
      "Classifier: XGBClassifier\n",
      "Feature Selection Applied = False\n",
      "Number of mislabeled points out of a total 36 points : 8\n"
     ]
    },
    {
     "data": {
      "text/html": "<div>\n<style scoped>\n    .dataframe tbody tr th:only-of-type {\n        vertical-align: middle;\n    }\n\n    .dataframe tbody tr th {\n        vertical-align: top;\n    }\n\n    .dataframe thead th {\n        text-align: right;\n    }\n</style>\n<table border=\"1\" class=\"dataframe\">\n  <thead>\n    <tr style=\"text-align: right;\">\n      <th></th>\n      <th>model</th>\n      <th>timepoint</th>\n      <th>accuracy</th>\n      <th>AUC</th>\n      <th>pr_score</th>\n      <th>f1_score</th>\n      <th>fb_score</th>\n      <th>MCC_Score</th>\n    </tr>\n  </thead>\n  <tbody>\n    <tr>\n      <th>0</th>\n      <td>XGBClassifier</td>\n      <td>t2</td>\n      <td>0.777778</td>\n      <td>0.675781</td>\n      <td>0.280556</td>\n      <td>0.333333</td>\n      <td>0.416667</td>\n      <td>0.236228</td>\n    </tr>\n  </tbody>\n</table>\n</div>",
      "text/plain": "           model timepoint  accuracy       AUC  pr_score  f1_score  fb_score  \\\n0  XGBClassifier        t2  0.777778  0.675781  0.280556  0.333333  0.416667   \n\n   MCC_Score  \n0   0.236228  "
     },
     "metadata": {},
     "output_type": "display_data"
    },
    {
     "data": {
      "image/png": "[encoded data removed]",
      "text/plain": "<Figure size 640x480 with 1 Axes>"
     },
     "metadata": {},
     "output_type": "display_data"
    },
    {
     "data": {
      "image/png": "[encoded data removed]",
      "text/plain": "<Figure size 640x480 with 1 Axes>"
     },
     "metadata": {},
     "output_type": "display_data"
    }
   ],
   "source": [
    "clf = xgb.XGBClassifier(objective='binary:logistic', n_estimators= 10, learning_rate=0.01,use_label_encoder=False, max_depth=10, n_jobs=18)\r\n",
    "\r\n",
    "t1_gnb = apply_single_clf(clf, split_data, timepoint='t1', apply_feature_selection=False, bagging=False, save=save_path)\r\n",
    "t2_gnb = apply_single_clf(clf, split_data, timepoint='t2', apply_feature_selection=False, bagging=False, save=save_path)\r\n",
    "ft = xgb.plot_importance(t1_gnb['fit_model'])\r\n",
    "ft = xgb.plot_importance(t2_gnb['fit_model'])"
   ]
  },
  {
   "cell_type": "code",
   "execution_count": 16,
   "metadata": {},
   "outputs": [
    {
     "name": "stdout",
     "output_type": "stream",
     "text": [
      "[11:47:32] WARNING: C:/Users/Administrator/workspace/xgboost-win64_release_1.3.0/src/learner.cc:1061: Starting in XGBoost 1.3.0, the default evaluation metric used with the objective 'binary:logistic' was changed from 'error' to 'logloss'. Explicitly set eval_metric if you'd like to restore the old behavior.\n",
      "Classifier: XGBClassifier + Feature Selection\n",
      "Feature Selection Applied = True\n",
      "Features Selected:['PET_wavelet-HLL_gldm_LargeDependenceHighGrayLevelEmphasis', 'PET_wavelet-HLH_glszm_SmallAreaHighGrayLevelEmphasis', 'PET_wavelet-HHH_firstorder_Skewness']\n",
      "Number of mislabeled points out of a total 36 points : 7\n"
     ]
    },
    {
     "data": {
      "text/html": "<div>\n<style scoped>\n    .dataframe tbody tr th:only-of-type {\n        vertical-align: middle;\n    }\n\n    .dataframe tbody tr th {\n        vertical-align: top;\n    }\n\n    .dataframe thead th {\n        text-align: right;\n    }\n</style>\n<table border=\"1\" class=\"dataframe\">\n  <thead>\n    <tr style=\"text-align: right;\">\n      <th></th>\n      <th>model</th>\n      <th>timepoint</th>\n      <th>accuracy</th>\n      <th>AUC</th>\n      <th>pr_score</th>\n      <th>f1_score</th>\n      <th>fb_score</th>\n      <th>MCC_Score</th>\n    </tr>\n  </thead>\n  <tbody>\n    <tr>\n      <th>0</th>\n      <td>XGBClassifier + Feature Selection</td>\n      <td>t1</td>\n      <td>0.805556</td>\n      <td>0.773438</td>\n      <td>0.277778</td>\n      <td>0.461538</td>\n      <td>0.6</td>\n      <td>0.408248</td>\n    </tr>\n  </tbody>\n</table>\n</div>",
      "text/plain": "                               model timepoint  accuracy       AUC  pr_score  \\\n0  XGBClassifier + Feature Selection        t1  0.805556  0.773438  0.277778   \n\n   f1_score  fb_score  MCC_Score  \n0  0.461538       0.6   0.408248  "
     },
     "metadata": {},
     "output_type": "display_data"
    },
    {
     "name": "stdout",
     "output_type": "stream",
     "text": [
      "[11:47:32] WARNING: C:/Users/Administrator/workspace/xgboost-win64_release_1.3.0/src/learner.cc:1061: Starting in XGBoost 1.3.0, the default evaluation metric used with the objective 'binary:logistic' was changed from 'error' to 'logloss'. Explicitly set eval_metric if you'd like to restore the old behavior.\n",
      "Classifier: XGBClassifier + Feature Selection\n",
      "Feature Selection Applied = True\n",
      "Features Selected:['CT_wavelet-LHH_glszm_SmallAreaLowGrayLevelEmphasis', 'PET_wavelet-HLH_glcm_ClusterTendency']\n",
      "Number of mislabeled points out of a total 36 points : 6\n"
     ]
    },
    {
     "data": {
      "text/html": "<div>\n<style scoped>\n    .dataframe tbody tr th:only-of-type {\n        vertical-align: middle;\n    }\n\n    .dataframe tbody tr th {\n        vertical-align: top;\n    }\n\n    .dataframe thead th {\n        text-align: right;\n    }\n</style>\n<table border=\"1\" class=\"dataframe\">\n  <thead>\n    <tr style=\"text-align: right;\">\n      <th></th>\n      <th>model</th>\n      <th>timepoint</th>\n      <th>accuracy</th>\n      <th>AUC</th>\n      <th>pr_score</th>\n      <th>f1_score</th>\n      <th>fb_score</th>\n      <th>MCC_Score</th>\n    </tr>\n  </thead>\n  <tbody>\n    <tr>\n      <th>0</th>\n      <td>XGBClassifier + Feature Selection</td>\n      <td>t2</td>\n      <td>0.833333</td>\n      <td>0.65625</td>\n      <td>0.180556</td>\n      <td>0.25</td>\n      <td>0.25</td>\n      <td>0.15625</td>\n    </tr>\n  </tbody>\n</table>\n</div>",
      "text/plain": "                               model timepoint  accuracy      AUC  pr_score  \\\n0  XGBClassifier + Feature Selection        t2  0.833333  0.65625  0.180556   \n\n   f1_score  fb_score  MCC_Score  \n0      0.25      0.25    0.15625  "
     },
     "metadata": {},
     "output_type": "display_data"
    }
   ],
   "source": [
    "clf = xgb.XGBClassifier(objective='binary:logistic', n_estimators= 10, learning_rate=0.01,use_label_encoder=False, max_depth=10, n_jobs=18)\r\n",
    "\r\n",
    "t1_gnb = apply_single_clf(clf, split_data, timepoint='t1', apply_feature_selection=True, bagging=False, save=save_path)\r\n",
    "t2_gnb = apply_single_clf(clf, split_data, timepoint='t2', apply_feature_selection=True, bagging=False, save=save_path)"
   ]
  },
  {
   "cell_type": "code",
   "execution_count": 17,
   "metadata": {},
   "outputs": [
    {
     "name": "stdout",
     "output_type": "stream",
     "text": [
      "Classifier: XGBClassifier + Bagging\n",
      "Feature Selection Applied = False\n",
      "Number of mislabeled points out of a total 36 points : 2\n"
     ]
    },
    {
     "data": {
      "text/html": "<div>\n<style scoped>\n    .dataframe tbody tr th:only-of-type {\n        vertical-align: middle;\n    }\n\n    .dataframe tbody tr th {\n        vertical-align: top;\n    }\n\n    .dataframe thead th {\n        text-align: right;\n    }\n</style>\n<table border=\"1\" class=\"dataframe\">\n  <thead>\n    <tr style=\"text-align: right;\">\n      <th></th>\n      <th>model</th>\n      <th>timepoint</th>\n      <th>accuracy</th>\n      <th>AUC</th>\n      <th>pr_score</th>\n      <th>f1_score</th>\n      <th>fb_score</th>\n      <th>MCC_Score</th>\n    </tr>\n  </thead>\n  <tbody>\n    <tr>\n      <th>0</th>\n      <td>XGBClassifier + Bagging</td>\n      <td>t1</td>\n      <td>0.944444</td>\n      <td>0.898438</td>\n      <td>0.684066</td>\n      <td>0.666667</td>\n      <td>0.555556</td>\n      <td>0.685994</td>\n    </tr>\n  </tbody>\n</table>\n</div>",
      "text/plain": "                     model timepoint  accuracy       AUC  pr_score  f1_score  \\\n0  XGBClassifier + Bagging        t1  0.944444  0.898438  0.684066  0.666667   \n\n   fb_score  MCC_Score  \n0  0.555556   0.685994  "
     },
     "metadata": {},
     "output_type": "display_data"
    },
    {
     "name": "stdout",
     "output_type": "stream",
     "text": [
      "Classifier: XGBClassifier + Bagging\n",
      "Feature Selection Applied = False\n",
      "Number of mislabeled points out of a total 36 points : 6\n"
     ]
    },
    {
     "data": {
      "text/html": "<div>\n<style scoped>\n    .dataframe tbody tr th:only-of-type {\n        vertical-align: middle;\n    }\n\n    .dataframe tbody tr th {\n        vertical-align: top;\n    }\n\n    .dataframe thead th {\n        text-align: right;\n    }\n</style>\n<table border=\"1\" class=\"dataframe\">\n  <thead>\n    <tr style=\"text-align: right;\">\n      <th></th>\n      <th>model</th>\n      <th>timepoint</th>\n      <th>accuracy</th>\n      <th>AUC</th>\n      <th>pr_score</th>\n      <th>f1_score</th>\n      <th>fb_score</th>\n      <th>MCC_Score</th>\n    </tr>\n  </thead>\n  <tbody>\n    <tr>\n      <th>0</th>\n      <td>XGBClassifier + Bagging</td>\n      <td>t2</td>\n      <td>0.833333</td>\n      <td>0.757812</td>\n      <td>0.528704</td>\n      <td>0.4</td>\n      <td>0.454545</td>\n      <td>0.316228</td>\n    </tr>\n  </tbody>\n</table>\n</div>",
      "text/plain": "                     model timepoint  accuracy       AUC  pr_score  f1_score  \\\n0  XGBClassifier + Bagging        t2  0.833333  0.757812  0.528704       0.4   \n\n   fb_score  MCC_Score  \n0  0.454545   0.316228  "
     },
     "metadata": {},
     "output_type": "display_data"
    }
   ],
   "source": [
    "clf = xgb.XGBClassifier(objective='binary:logistic', n_estimators= 10, learning_rate=0.01,use_label_encoder=False, max_depth=10, n_jobs=18)\r\n",
    "\r\n",
    "t1_gnb = apply_single_clf(clf, split_data, timepoint='t1', apply_feature_selection=False, bagging=True, save=save_path)\r\n",
    "t2_gnb = apply_single_clf(clf, split_data, timepoint='t2', apply_feature_selection=False, bagging=True, save=save_path)\r\n",
    "# ft = xgb.plot_importance(t1_gnb['fit_model'])\r\n",
    "# ft = xgb.plot_importance(t2_gnb['fit_model'])"
   ]
  },
  {
   "cell_type": "markdown",
   "metadata": {},
   "source": [
    "# Multi-timepoint Models"
   ]
  },
  {
   "cell_type": "code",
   "execution_count": 18,
   "metadata": {},
   "outputs": [
    {
     "name": "stdout",
     "output_type": "stream",
     "text": [
      "        model  accuracy       AUC  PR_score  f1_score  fb_score  MCC_Score\n",
      "0  GaussianNB  0.555556  0.597656  0.347222       0.2    0.3125   0.039528\n",
      "\n",
      "\n"
     ]
    },
    {
     "data": {
      "image/png": "[encoded data removed]",
      "text/plain": "<Figure size 1800x400 with 4 Axes>"
     },
     "metadata": {},
     "output_type": "display_data"
    }
   ],
   "source": [
    "clf = GaussianNB()\r\n",
    "nb_res =apply_multi_clf(clf, split_data)\r\n",
    "# test"
   ]
  },
  {
   "cell_type": "code",
   "execution_count": 19,
   "metadata": {},
   "outputs": [
    {
     "name": "stderr",
     "output_type": "stream",
     "text": [
      "100%|██████████| 100/100 [01:25<00:00,  1.18it/s]\n"
     ]
    }
   ],
   "source": [
    "clf = AdaBoostClassifier()\r\n",
    "\r\n",
    "ada_res=[]\r\n",
    "for i in trange(100):\r\n",
    "    ada_res.append(apply_multi_clf(clf, split_data,silent=True))"
   ]
  },
  {
   "cell_type": "code",
   "execution_count": 20,
   "metadata": {},
   "outputs": [
    {
     "name": "stderr",
     "output_type": "stream",
     "text": [
      "100%|██████████| 100/100 [03:40<00:00,  2.20s/it]\n"
     ]
    }
   ],
   "source": [
    "clf = GradientBoostingClassifier()\r\n",
    "gbc_res=[]\r\n",
    "for i in trange(100):\r\n",
    "    gbc_res.append(apply_multi_clf(clf, split_data,silent=True))"
   ]
  },
  {
   "cell_type": "code",
   "execution_count": 25,
   "metadata": {},
   "outputs": [
    {
     "name": "stderr",
     "output_type": "stream",
     "text": [
      "100%|██████████| 100/100 [00:08<00:00, 12.03it/s]\n"
     ]
    }
   ],
   "source": [
    "clf = xgb.XGBClassifier(objective='binary:logistic',eval_metric = 'logloss', n_estimators= 10, learning_rate=0.01,use_label_encoder=False, max_depth=10, n_jobs=18)\r\n",
    "\r\n",
    "xgb_res=[]\r\n",
    "for i in trange(100):\r\n",
    "    xgb_res.append(apply_multi_clf(clf, split_data,silent=True))"
   ]
  },
  {
   "cell_type": "code",
   "execution_count": 22,
   "metadata": {},
   "outputs": [
    {
     "data": {
      "text/html": "<div>\n<style scoped>\n    .dataframe tbody tr th:only-of-type {\n        vertical-align: middle;\n    }\n\n    .dataframe tbody tr th {\n        vertical-align: top;\n    }\n\n    .dataframe thead th {\n        text-align: right;\n    }\n</style>\n<table border=\"1\" class=\"dataframe\">\n  <thead>\n    <tr style=\"text-align: right;\">\n      <th></th>\n      <th>average_accuracy</th>\n      <th>average_AUC</th>\n      <th>average_pr_score</th>\n      <th>average_f1</th>\n      <th>average_fb</th>\n      <th>average_MCC</th>\n    </tr>\n  </thead>\n  <tbody>\n    <tr>\n      <th>0</th>\n      <td>0.912222</td>\n      <td>0.7275</td>\n      <td>0.41</td>\n      <td>0.565206</td>\n      <td>0.514438</td>\n      <td>0.541866</td>\n    </tr>\n  </tbody>\n</table>\n</div>",
      "text/plain": "   average_accuracy  average_AUC  average_pr_score  average_f1  average_fb  \\\n0          0.912222       0.7275              0.41    0.565206    0.514438   \n\n   average_MCC  \n0     0.541866  "
     },
     "execution_count": 22,
     "metadata": {},
     "output_type": "execute_result"
    }
   ],
   "source": [
    "ada_res\r\n",
    "average_accuracy = sum([ada_res[i]['accuracy'] for i in range(100)])/100\r\n",
    "average_AUC = sum([ada_res[i]['AUC'] for i in range(100)])/100\r\n",
    "average_pr_score = sum([ada_res[i]['PR_score'] for i in range(100)])/100\r\n",
    "average_f1 = sum([ada_res[i]['f1_score'] for i in range(100)])/100\r\n",
    "average_fb = sum([ada_res[i]['fb_score'] for i in range(100)])/100\r\n",
    "average_MCC = sum([ada_res[i]['MCC_Score'] for i in range(100)])/100\r\n",
    "\r\n",
    "res = {'average_accuracy':average_accuracy,\r\n",
    "       'average_AUC':average_AUC,\r\n",
    "       'average_pr_score':average_pr_score,\r\n",
    "       'average_f1':average_f1,\r\n",
    "       'average_fb':average_fb,\r\n",
    "       'average_MCC':average_MCC,   \r\n",
    "}\r\n",
    "\r\n",
    "\r\n",
    "pd.DataFrame(res, index=[0])\r\n"
   ]
  },
  {
   "cell_type": "code",
   "execution_count": 23,
   "metadata": {},
   "outputs": [
    {
     "data": {
      "text/html": "<div>\n<style scoped>\n    .dataframe tbody tr th:only-of-type {\n        vertical-align: middle;\n    }\n\n    .dataframe tbody tr th {\n        vertical-align: top;\n    }\n\n    .dataframe thead th {\n        text-align: right;\n    }\n</style>\n<table border=\"1\" class=\"dataframe\">\n  <thead>\n    <tr style=\"text-align: right;\">\n      <th></th>\n      <th>average_accuracy</th>\n      <th>average_AUC</th>\n      <th>average_pr_score</th>\n      <th>average_f1</th>\n      <th>average_fb</th>\n      <th>average_MCC</th>\n    </tr>\n  </thead>\n  <tbody>\n    <tr>\n      <th>0</th>\n      <td>0.843611</td>\n      <td>0.924375</td>\n      <td>0.622158</td>\n      <td>0.500484</td>\n      <td>0.620203</td>\n      <td>0.456468</td>\n    </tr>\n  </tbody>\n</table>\n</div>",
      "text/plain": "   average_accuracy  average_AUC  average_pr_score  average_f1  average_fb  \\\n0          0.843611     0.924375          0.622158    0.500484    0.620203   \n\n   average_MCC  \n0     0.456468  "
     },
     "execution_count": 23,
     "metadata": {},
     "output_type": "execute_result"
    }
   ],
   "source": [
    "gbc_res\r\n",
    "average_accuracy = sum([gbc_res[i]['accuracy'] for i in range(100)])/100\r\n",
    "average_AUC = sum([gbc_res[i]['AUC'] for i in range(100)])/100\r\n",
    "average_pr_score = sum([gbc_res[i]['PR_score'] for i in range(100)])/100\r\n",
    "average_f1 = sum([gbc_res[i]['f1_score'] for i in range(100)])/100\r\n",
    "average_fb = sum([gbc_res[i]['fb_score'] for i in range(100)])/100\r\n",
    "average_MCC = sum([gbc_res[i]['MCC_Score'] for i in range(100)])/100\r\n",
    "\r\n",
    "res = {'average_accuracy':average_accuracy,\r\n",
    "       'average_AUC':average_AUC,\r\n",
    "       'average_pr_score':average_pr_score,\r\n",
    "       'average_f1':average_f1,\r\n",
    "       'average_fb':average_fb,\r\n",
    "       'average_MCC':average_MCC,   \r\n",
    "}\r\n",
    "\r\n",
    "\r\n",
    "pd.DataFrame(res, index=[0])"
   ]
  },
  {
   "cell_type": "code",
   "execution_count": 24,
   "metadata": {},
   "outputs": [
    {
     "data": {
      "text/html": "<div>\n<style scoped>\n    .dataframe tbody tr th:only-of-type {\n        vertical-align: middle;\n    }\n\n    .dataframe tbody tr th {\n        vertical-align: top;\n    }\n\n    .dataframe thead th {\n        text-align: right;\n    }\n</style>\n<table border=\"1\" class=\"dataframe\">\n  <thead>\n    <tr style=\"text-align: right;\">\n      <th></th>\n      <th>average_accuracy</th>\n      <th>average_AUC</th>\n      <th>average_pr_score</th>\n      <th>average_f1</th>\n      <th>average_fb</th>\n      <th>average_MCC</th>\n    </tr>\n  </thead>\n  <tbody>\n    <tr>\n      <th>0</th>\n      <td>0.861111</td>\n      <td>0.703125</td>\n      <td>0.255556</td>\n      <td>0.444444</td>\n      <td>0.47619</td>\n      <td>0.369175</td>\n    </tr>\n  </tbody>\n</table>\n</div>",
      "text/plain": "   average_accuracy  average_AUC  average_pr_score  average_f1  average_fb  \\\n0          0.861111     0.703125          0.255556    0.444444     0.47619   \n\n   average_MCC  \n0     0.369175  "
     },
     "execution_count": 24,
     "metadata": {},
     "output_type": "execute_result"
    }
   ],
   "source": [
    "xgb_res\r\n",
    "average_accuracy = sum([xgb_res[i]['accuracy'] for i in range(100)])/100\r\n",
    "average_AUC = sum([xgb_res[i]['AUC'] for i in range(100)])/100\r\n",
    "average_pr_score = sum([xgb_res[i]['PR_score'] for i in range(100)])/100\r\n",
    "average_f1 = sum([xgb_res[i]['f1_score'] for i in range(100)])/100\r\n",
    "average_fb = sum([xgb_res[i]['fb_score'] for i in range(100)])/100\r\n",
    "average_MCC = sum([xgb_res[i]['MCC_Score'] for i in range(100)])/100\r\n",
    "\r\n",
    "res = {'average_accuracy':average_accuracy,\r\n",
    "       'average_AUC':average_AUC,\r\n",
    "       'average_pr_score':average_pr_score,\r\n",
    "       'average_f1':average_f1,\r\n",
    "       'average_fb':average_fb,\r\n",
    "       'average_MCC':average_MCC,   \r\n",
    "}\r\n",
    "\r\n",
    "\r\n",
    "pd.DataFrame(res, index=[0])"
   ]
  }
 ],
 "metadata": {
  "kernelspec": {
   "display_name": "Python 3.8.6 64-bit",
   "name": "python386jvsc74a57bd0615a7dda892719774096587b3a7293a99c271efcca0a9ce908482d067af6d18b"
  },
  "language_info": {
   "name": "python",
   "version": ""
  },
  "metadata": {
   "interpreter": {
    "hash": "615a7dda892719774096587b3a7293a99c271efcca0a9ce908482d067af6d18b"
   }
  }
 },
 "nbformat": 4,
 "nbformat_minor": 4
}